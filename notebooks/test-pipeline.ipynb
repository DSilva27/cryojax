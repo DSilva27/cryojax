{
 "cells": [
  {
   "cell_type": "code",
   "execution_count": null,
   "metadata": {},
   "outputs": [],
   "source": [
    "# Jax imports\n",
    "import jax\n",
    "import jax.numpy as jnp\n",
    "import numpy as np\n",
    "from jax import jit\n",
    "from jax import config\n",
    "config.update(\"jax_enable_x64\", False)"
   ]
  },
  {
   "cell_type": "code",
   "execution_count": null,
   "metadata": {},
   "outputs": [],
   "source": [
    "from matplotlib import pyplot as plt"
   ]
  },
  {
   "cell_type": "code",
   "execution_count": null,
   "metadata": {},
   "outputs": [],
   "source": [
    "# IO utils\n",
    "from jax_2dtm.io import load_grid_as_cloud"
   ]
  },
  {
   "cell_type": "code",
   "execution_count": null,
   "metadata": {},
   "outputs": [],
   "source": [
    "# Image simulator\n",
    "from jax_2dtm.simulator import coordinatize, rotate_and_translate, project\n",
    "from jax_2dtm.simulator import Cloud, Pose, ImageConfig\n",
    "from jax_2dtm.utils import ifft"
   ]
  },
  {
   "cell_type": "code",
   "execution_count": null,
   "metadata": {},
   "outputs": [],
   "source": [
    "# Volume filename and metadata\n",
    "pixel_size = 6.6 # Angstroms\n",
    "filename = \"../tests/data/example.mrc\""
   ]
  },
  {
   "cell_type": "code",
   "execution_count": null,
   "metadata": {},
   "outputs": [],
   "source": [
    "# Configure image data and read template as point cloud\n",
    "config = ImageConfig((54, 54), pixel_size, eps=1e-6)\n",
    "cloud = load_grid_as_cloud(filename, config, threshold=1e-5)"
   ]
  },
  {
   "cell_type": "code",
   "execution_count": null,
   "metadata": {},
   "outputs": [],
   "source": [
    "# Transform coordinates\n",
    "pose = Pose(np.pi/8, np.pi/2, 0.0, 30.0, 70.0)\n",
    "transformed_cloud = rotate_and_translate(cloud, pose)"
   ]
  },
  {
   "cell_type": "code",
   "execution_count": null,
   "metadata": {},
   "outputs": [],
   "source": [
    "# Compute scattering image\n",
    "scattering_image = project(transformed_cloud, config)"
   ]
  },
  {
   "cell_type": "code",
   "execution_count": null,
   "metadata": {},
   "outputs": [],
   "source": [
    "# Plot scattering image\n",
    "plt.imshow(ifft(scattering_image), origin=\"lower\", cmap=\"gray\")"
   ]
  },
  {
   "cell_type": "code",
   "execution_count": null,
   "metadata": {},
   "outputs": [],
   "source": [
    "def get_pipeline(config: ImageConfig, cloud: Cloud):\n",
    "    \"\"\"\n",
    "    Get jitted pipeline with configured\n",
    "    static variables.\n",
    "    \"\"\"\n",
    "\n",
    "    def pipeline(phi, theta, psi, tx, ty):\n",
    "        pose = Pose(phi, theta, psi, tx, ty)\n",
    "        transformed_cloud = rotate_and_translate(cloud, pose)\n",
    "        scattering_image = project(transformed_cloud, config)\n",
    "\n",
    "        return scattering_image\n",
    "\n",
    "    return pipeline\n",
    "    \n"
   ]
  },
  {
   "cell_type": "code",
   "execution_count": null,
   "metadata": {},
   "outputs": [],
   "source": [
    "# Get pipeline\n",
    "pipeline = get_pipeline(config, cloud)\n",
    "jitted_pipeline = jax.jit(jax.vmap(pipeline, in_axes=0))# in_axes=[0, 0, 0, 0, 0, None, None]))"
   ]
  },
  {
   "cell_type": "code",
   "execution_count": null,
   "metadata": {},
   "outputs": [],
   "source": [
    "# Compute and plot\n",
    "pose = Pose(np.array([np.pi/8, 0.0]), np.array([np.pi/2, 0]), np.array([0.0, 0.0]), np.array([30.0, 0.0]), np.array([70.0, 0.0]))\n",
    "scattering_image = jitted_pipeline(*pose.iter_data())\n",
    "plt.imshow(ifft(scattering_image[1]), origin=\"lower\", cmap=\"gray\")"
   ]
  }
 ],
 "metadata": {
  "kernelspec": {
   "display_name": "Python 3.10.12 ('jax-2dtm')",
   "language": "python",
   "name": "python3"
  },
  "language_info": {
   "codemirror_mode": {
    "name": "ipython",
    "version": 3
   },
   "file_extension": ".py",
   "mimetype": "text/x-python",
   "name": "python",
   "nbconvert_exporter": "python",
   "pygments_lexer": "ipython3",
   "version": "3.10.12"
  },
  "vscode": {
   "interpreter": {
    "hash": "d54389072f5f521d2ecfa69c70221601c9c73f7ba153ba5ad0df84f5e2694f8a"
   }
  }
 },
 "nbformat": 4,
 "nbformat_minor": 2
}
