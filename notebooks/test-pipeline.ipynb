{
 "cells": [
  {
   "cell_type": "code",
   "execution_count": null,
   "metadata": {},
   "outputs": [],
   "source": [
    "# Jax imports\n",
    "import jax\n",
    "import jax.numpy as jnp\n",
    "import numpy as np\n",
    "from jax import config\n",
    "\n",
    "config.update(\"jax_enable_x64\", False)"
   ]
  },
  {
   "cell_type": "code",
   "execution_count": null,
   "metadata": {},
   "outputs": [],
   "source": [
    "from matplotlib import pyplot as plt\n",
    "from mpl_toolkits.axes_grid1 import make_axes_locatable"
   ]
  },
  {
   "cell_type": "code",
   "execution_count": null,
   "metadata": {},
   "outputs": [],
   "source": [
    "def plot_image(image, fig, ax, cmap=\"gray\", **kwargs):\n",
    "    im = ax.imshow(image, cmap=cmap, origin=\"lower\", **kwargs)\n",
    "    divider = make_axes_locatable(ax)\n",
    "    cax = divider.append_axes(\"right\", size=\"5%\", pad=0.05)\n",
    "    fig.colorbar(im, cax=cax)\n",
    "    return fig, ax"
   ]
  },
  {
   "cell_type": "code",
   "execution_count": null,
   "metadata": {},
   "outputs": [],
   "source": [
    "# IO utils\n",
    "from jax_2dtm.io import load_grid_as_cloud"
   ]
  },
  {
   "cell_type": "code",
   "execution_count": null,
   "metadata": {},
   "outputs": [],
   "source": [
    "# Image simulator\n",
    "from jax_2dtm.simulator import NufftScattering\n",
    "from jax_2dtm.simulator import ScatteringImage, OpticsImage, GaussianImage\n",
    "from jax_2dtm.simulator import AntiAliasingFilter, WhiteningFilter, CircularMask\n",
    "from jax_2dtm.simulator import EulerPose, CTFOptics, Intensity, ExponentialNoise, WhiteNoise, ParameterState\n",
    "from jax_2dtm.utils import ifft, fftfreqs"
   ]
  },
  {
   "cell_type": "code",
   "execution_count": null,
   "metadata": {},
   "outputs": [],
   "source": [
    "# Volume filename and metadata\n",
    "pixel_size = 5.28  # Angstroms\n",
    "filename = \"../tests/data/3jar_13pf_bfm1_ps5_28.mrc\"\n",
    "#pixel_size = 1.32  # Angstroms\n",
    "#filename = \"3jar_13pf_bfm1_ps1_32.mrc\""
   ]
  },
  {
   "cell_type": "code",
   "execution_count": null,
   "metadata": {},
   "outputs": [],
   "source": [
    "# Configure image data and read template as point cloud\n",
    "config = NufftScattering((80, 80), pixel_size, pad_scale=1.5, eps=1e-5)\n",
    "cloud = load_grid_as_cloud(filename, config, atol=1e-6)"
   ]
  },
  {
   "cell_type": "code",
   "execution_count": null,
   "metadata": {},
   "outputs": [],
   "source": [
    "# Initialize model, parameters, and compute image\n",
    "pose = EulerPose(-50.0, 30.0, np.pi / 4, np.pi / 10, -np.pi / 8)\n",
    "optics = CTFOptics(defocus_u=10000, defocus_v=10000, amplitude_contrast_ratio=.1)\n",
    "noise = ExponentialNoise(key=jax.random.PRNGKey(seed=0), kappa=0.05, xi=3.0, alpha=0.5)\n",
    "intensity = Intensity(N=1, mu=0)\n",
    "state = ParameterState(pose=pose, optics=optics, noise=noise, intensity=intensity)"
   ]
  },
  {
   "cell_type": "code",
   "execution_count": null,
   "metadata": {},
   "outputs": [],
   "source": [
    "scattering_model = ScatteringImage(config=config, cloud=cloud, state=state)\n",
    "optics_model = OpticsImage(config=config, cloud=cloud, state=state, masks=[])\n",
    "noisy_model = GaussianImage(config=config, cloud=cloud, state=state)"
   ]
  },
  {
   "cell_type": "code",
   "execution_count": null,
   "metadata": {},
   "outputs": [],
   "source": [
    "# Plot models\n",
    "fig, axes = plt.subplots(ncols=3, figsize=(12, 6))\n",
    "ax1, ax2, ax3 = axes\n",
    "im1 = plot_image(ifft(scattering_model()), fig, ax1)\n",
    "im2 = plot_image(ifft(optics_model()), fig, ax2)\n",
    "im3 = plot_image(ifft(noisy_model()), fig, ax3)\n",
    "plt.tight_layout()"
   ]
  },
  {
   "attachments": {},
   "cell_type": "markdown",
   "metadata": {},
   "source": [
    "Now, let's test altering the image filters."
   ]
  },
  {
   "cell_type": "code",
   "execution_count": null,
   "metadata": {},
   "outputs": [],
   "source": [
    "# Instantiate image filters\n",
    "fig, ax = plt.subplots(figsize=(4, 4))\n",
    "micrograph_freqs = fftfreqs((800, 600), pixel_size)\n",
    "micrograph = noise.sample(config.pixel_size * micrograph_freqs)\n",
    "whiten = WhiteningFilter(config.pixel_size * config.freqs, config.pixel_size * micrograph_freqs, micrograph)\n",
    "plot_image(ifft(whiten(noisy_model())), fig, ax)"
   ]
  },
  {
   "cell_type": "code",
   "execution_count": null,
   "metadata": {},
   "outputs": [],
   "source": [
    "plt.imshow(ifft(micrograph).T, origin=\"lower\", cmap=\"gray\")\n",
    "plt.colorbar()"
   ]
  },
  {
   "cell_type": "markdown",
   "metadata": {},
   "source": [
    "We see that the whitening filter looks right, empirically! Now generate an image at a colored noise model with a given whitening filter"
   ]
  },
  {
   "cell_type": "code",
   "execution_count": null,
   "metadata": {},
   "outputs": [],
   "source": [
    "# Show forward model for a whitened image\n",
    "fig, ax = plt.subplots(figsize=(4, 4))\n",
    "white_noise = WhiteNoise(key=jax.random.PRNGKey(seed=0), alpha=1.0)\n",
    "filters = [AntiAliasingFilter(config.pixel_size * config.padded_freqs), WhiteningFilter(config.pixel_size * config.padded_freqs, config.pixel_size * micrograph_freqs, micrograph)]\n",
    "filtered_model = GaussianImage(config=config, cloud=cloud, state=state, filters=filters)\n",
    "plot_image(ifft(filtered_model.render()), fig, ax)"
   ]
  },
  {
   "cell_type": "code",
   "execution_count": null,
   "metadata": {},
   "outputs": [],
   "source": [
    "# Visualize filters\n",
    "fig, axes = plt.subplots(ncols=2, figsize=(8, 6))\n",
    "ax1, ax2 = axes\n",
    "antialias, whiten = filters\n",
    "im1 = plot_image(whiten.filter, fig, ax1, cmap=\"viridis\")\n",
    "im2 = plot_image(antialias.filter, fig, ax2, cmap=\"gray\")\n",
    "plt.tight_layout()"
   ]
  },
  {
   "attachments": {},
   "cell_type": "markdown",
   "metadata": {},
   "source": [
    "Computing an image is straight-forward, but really we want to define a function that can be arbitrarily transformed by JAX and evaulated at subsets of the parameters."
   ]
  },
  {
   "cell_type": "code",
   "execution_count": null,
   "metadata": {},
   "outputs": [],
   "source": [
    "# Define subset of parameters over which to evaluate model, and jitted model\n",
    "params = dict(view_phi=np.pi, defocus_u=9000.0, alpha=1.0, N=1.0, mu=0.0)\n",
    "jitted_noisy_model = jax.jit(lambda params: noisy_model(params))"
   ]
  },
  {
   "cell_type": "code",
   "execution_count": null,
   "metadata": {},
   "outputs": [],
   "source": [
    "# Benchmark jitted pipeline\n",
    "# jitted_noisy_image = jitted_noisy_model(params)"
   ]
  },
  {
   "cell_type": "code",
   "execution_count": null,
   "metadata": {},
   "outputs": [],
   "source": [
    "# Benchmark non-jitted pipeline\n",
    "noisy_image = noisy_model(params)"
   ]
  },
  {
   "attachments": {},
   "cell_type": "markdown",
   "metadata": {},
   "source": [
    "Now, we can also use the model to compute the likelihood. Let's evaulate the likelihood at the simulated data, and visualize the residuals."
   ]
  },
  {
   "cell_type": "code",
   "execution_count": null,
   "metadata": {},
   "outputs": [],
   "source": [
    "# Initialize the model and plot residuals\n",
    "fig, axes = plt.subplots(ncols=3, figsize=(12, 6))\n",
    "ax1, ax2, ax3 = axes\n",
    "masks = [CircularMask(config.coords/config.pixel_size)]\n",
    "observation_model = GaussianImage(config=config, cloud=cloud, state=state, masks=[], filters=[])\n",
    "observed = observation_model()\n",
    "model = GaussianImage(config=config, cloud=cloud, state=state, masks=masks, observed=observed)\n",
    "simulated, observed, residuals = model.render(), model.observed, model.residuals()\n",
    "plot_image(ifft(simulated), fig, ax1)\n",
    "plot_image(ifft(observed), fig, ax2)\n",
    "plot_image(ifft(residuals), fig, ax3)\n",
    "plt.tight_layout()\n"
   ]
  },
  {
   "cell_type": "code",
   "execution_count": null,
   "metadata": {},
   "outputs": [],
   "source": [
    "# Compute likelihood\n",
    "loss = lambda params: model(params)# jax.jit(lambda params: model(params))\n",
    "grad_loss = jax.grad(lambda params: model(params))#jax.jit(jax.grad(lambda params: model(params)))"
   ]
  },
  {
   "cell_type": "code",
   "execution_count": null,
   "metadata": {},
   "outputs": [],
   "source": [
    "# Benchmark jitted pipeline\n",
    "%timeit likelihood = loss(params)"
   ]
  },
  {
   "cell_type": "code",
   "execution_count": null,
   "metadata": {},
   "outputs": [],
   "source": [
    "# Benchmark gradient\n",
    "%timeit grad = grad_loss(params)"
   ]
  },
  {
   "cell_type": "code",
   "execution_count": null,
   "metadata": {},
   "outputs": [],
   "source": []
  }
 ],
 "metadata": {
  "kernelspec": {
   "display_name": "Python 3.10.12 ('jax-2dtm')",
   "language": "python",
   "name": "python3"
  },
  "language_info": {
   "codemirror_mode": {
    "name": "ipython",
    "version": 3
   },
   "file_extension": ".py",
   "mimetype": "text/x-python",
   "name": "python",
   "nbconvert_exporter": "python",
   "pygments_lexer": "ipython3",
   "version": "3.9.15"
  },
  "vscode": {
   "interpreter": {
    "hash": "d54389072f5f521d2ecfa69c70221601c9c73f7ba153ba5ad0df84f5e2694f8a"
   }
  }
 },
 "nbformat": 4,
 "nbformat_minor": 2
}
