{
 "cells": [
  {
   "cell_type": "code",
   "execution_count": null,
   "metadata": {},
   "outputs": [],
   "source": [
    "# Jax imports\n",
    "import jax\n",
    "import jax.numpy as jnp\n",
    "import numpy as np\n",
    "from jax import config\n",
    "\n",
    "config.update(\"jax_enable_x64\", False)"
   ]
  },
  {
   "cell_type": "code",
   "execution_count": null,
   "metadata": {},
   "outputs": [],
   "source": [
    "from matplotlib import pyplot as plt"
   ]
  },
  {
   "cell_type": "code",
   "execution_count": null,
   "metadata": {},
   "outputs": [],
   "source": [
    "# IO utils\n",
    "from jax_2dtm.io import load_grid_as_cloud"
   ]
  },
  {
   "cell_type": "code",
   "execution_count": null,
   "metadata": {},
   "outputs": [],
   "source": [
    "# Image simulator\n",
    "from jax_2dtm.simulator import compute_anti_aliasing_filter\n",
    "from jax_2dtm.simulator import Cloud, ScatteringConfig\n",
    "from jax_2dtm.simulator import ScatteringImage, OpticsImage, GaussianImage\n",
    "from jax_2dtm.simulator import AntiAliasingFilter, WhiteningFilter\n",
    "from jax_2dtm.simulator import EulerPose, CTFOptics, Intensity, LorenzianNoise, WhiteNoise, ParameterState\n",
    "from jax_2dtm.utils import fft, ifft, fftfreqs"
   ]
  },
  {
   "cell_type": "code",
   "execution_count": null,
   "metadata": {},
   "outputs": [],
   "source": [
    "# Volume filename and metadata\n",
    "pixel_size = 5.28  # Angstroms\n",
    "filename = \"../tests/data/3jar_13pf_bfm1_ps5_28.mrc\""
   ]
  },
  {
   "cell_type": "code",
   "execution_count": null,
   "metadata": {},
   "outputs": [],
   "source": [
    "# Configure image data and read template as point cloud\n",
    "config = ScatteringConfig((81, 81), pixel_size, eps=1e-4)\n",
    "cloud = load_grid_as_cloud(filename, config, threshold=1e-4)"
   ]
  },
  {
   "cell_type": "code",
   "execution_count": null,
   "metadata": {},
   "outputs": [],
   "source": [
    "# Compute scattering image\n",
    "freqs = fftfreqs(config.shape, config.pixel_size)\n",
    "pose = EulerPose(-50.0, -50.0, np.pi / 8, np.pi / 10, np.pi / 4)\n",
    "transformed_cloud = cloud.view(pose)\n",
    "scattering_image = transformed_cloud.project(config) * compute_anti_aliasing_filter(freqs, config.pixel_size, cutoff=1.0)"
   ]
  },
  {
   "cell_type": "code",
   "execution_count": null,
   "metadata": {},
   "outputs": [],
   "source": [
    "# Apply optics model and normalize\n",
    "N1, N2 = config.shape\n",
    "optics = CTFOptics()\n",
    "ctf = optics(freqs)\n",
    "optics_image = scattering_image * ctf\n",
    "optics_image = optics_image.at[N1//2, N2//2].set(0.0)\n",
    "optics_image = optics_image / (jnp.sqrt(jnp.sum((optics_image * jnp.conjugate(optics_image)))) / (N1*N2))"
   ]
  },
  {
   "cell_type": "code",
   "execution_count": null,
   "metadata": {},
   "outputs": [],
   "source": [
    "# Add gaussian noise\n",
    "noise = WhiteNoise(sigma=1.0)\n",
    "noisy_image = optics_image + noise.sample(freqs, config)"
   ]
  },
  {
   "cell_type": "code",
   "execution_count": null,
   "metadata": {},
   "outputs": [],
   "source": [
    "# Plot scattering\n",
    "fig, axes = plt.subplots(ncols=3, figsize=(12, 7))\n",
    "ax1, ax2, ax3 = axes\n",
    "ax1.imshow(ifft(scattering_image), origin=\"lower\", cmap=\"gray\")\n",
    "ax2.imshow(ifft(optics_image), origin=\"lower\", cmap=\"gray\")\n",
    "ax3.imshow(ifft(noisy_image), origin=\"lower\", cmap=\"gray\")"
   ]
  },
  {
   "attachments": {},
   "cell_type": "markdown",
   "metadata": {},
   "source": [
    "Now that we have confirmed the pipeline works step-by-step, let's demonstrate how to use the API."
   ]
  },
  {
   "cell_type": "code",
   "execution_count": null,
   "metadata": {},
   "outputs": [],
   "source": [
    "# Initialize model, parameters, and compute image\n",
    "pose = EulerPose(-50.0, -50.0, np.pi / 8, np.pi / 10, np.pi / 4)\n",
    "optics = CTFOptics()\n",
    "noise = WhiteNoise()\n",
    "intensity = Intensity()\n",
    "state = ParameterState(pose=pose, optics=optics, noise=noise, intensity=intensity)\n"
   ]
  },
  {
   "cell_type": "code",
   "execution_count": null,
   "metadata": {},
   "outputs": [],
   "source": [
    "scattering_model = ScatteringImage(config=config, cloud=cloud, state=state)\n",
    "optics_model = OpticsImage(config=config, cloud=cloud, state=state)\n",
    "noisy_model = GaussianImage(config=config, cloud=cloud, state=state)"
   ]
  },
  {
   "cell_type": "code",
   "execution_count": null,
   "metadata": {},
   "outputs": [],
   "source": [
    "# Plot models\n",
    "fig, axes = plt.subplots(ncols=3, figsize=(12, 6))\n",
    "ax1, ax2, ax3 = axes\n",
    "ax1.imshow(ifft(scattering_model()), origin=\"lower\", cmap=\"gray\")\n",
    "ax2.imshow(ifft(optics_model()), origin=\"lower\", cmap=\"gray\")\n",
    "ax3.imshow(ifft(noisy_model()), origin=\"lower\", cmap=\"gray\")"
   ]
  },
  {
   "attachments": {},
   "cell_type": "markdown",
   "metadata": {},
   "source": [
    "Now, let's test altering the image filters."
   ]
  },
  {
   "cell_type": "code",
   "execution_count": null,
   "metadata": {},
   "outputs": [],
   "source": [
    "# Instantiate image filters\n",
    "micrograph = noisy_model()\n",
    "filters = [AntiAliasingFilter(config, freqs), WhiteningFilter(config, freqs, micrograph)]\n",
    "filtered_model = GaussianImage(config=config, cloud=cloud, state=state, filters=filters)\n",
    "plt.imshow(ifft(filtered_model()), origin=\"lower\", cmap=\"gray\")"
   ]
  },
  {
   "cell_type": "code",
   "execution_count": null,
   "metadata": {},
   "outputs": [],
   "source": [
    "whitening = filters[1]\n",
    "plt.imshow(np.log(whitening.filter), cmap=\"gray\")\n",
    "plt.colorbar()"
   ]
  },
  {
   "attachments": {},
   "cell_type": "markdown",
   "metadata": {},
   "source": [
    "Computing an image is straight-forward, but really we want to define a function that can be arbitrarily transformed by JAX and evaulated at subsets of the parameters."
   ]
  },
  {
   "cell_type": "code",
   "execution_count": null,
   "metadata": {},
   "outputs": [],
   "source": [
    "# Define subset of parameters over which to evaluate model, and jitted model\n",
    "params = dict(view_phi=np.pi, defocus_u=9000.0, sigma=1.0, N=1.0, mu=10.0)\n",
    "jitted_noisy_model = jax.jit(lambda params: noisy_model(params))"
   ]
  },
  {
   "cell_type": "code",
   "execution_count": null,
   "metadata": {},
   "outputs": [],
   "source": [
    "# Benchmark jitted pipeline\n",
    "jitted_noisy_image = jitted_noisy_model(params)"
   ]
  },
  {
   "cell_type": "code",
   "execution_count": null,
   "metadata": {},
   "outputs": [],
   "source": [
    "# Benchmark non-jitted pipeline\n",
    "noisy_image = noisy_model(params)"
   ]
  },
  {
   "attachments": {},
   "cell_type": "markdown",
   "metadata": {},
   "source": [
    "Now, we can also use the model to compute the likelihood. Let's evaulate the likelihood at the simulated data, and visualize the residuals."
   ]
  },
  {
   "cell_type": "code",
   "execution_count": null,
   "metadata": {},
   "outputs": [],
   "source": [
    "# Initialize the model and plot residuals\n",
    "fig, axes = plt.subplots(ncols=3, figsize=(12, 7))\n",
    "ax1, ax2, ax3 = axes\n",
    "model = GaussianImage(config=config, cloud=cloud, state=state, observed=ifft(noisy_model()))\n",
    "simulated, observed, residuals = model.render(), model.observed, model.residuals()\n",
    "ax1.imshow(ifft(simulated), origin=\"lower\", cmap=\"gray\")\n",
    "ax2.imshow(ifft(observed), origin=\"lower\", cmap=\"gray\")\n",
    "ax3.imshow(ifft(residuals), origin=\"lower\", cmap=\"gray\")\n"
   ]
  },
  {
   "cell_type": "code",
   "execution_count": null,
   "metadata": {},
   "outputs": [],
   "source": [
    "# Compute likelihood\n",
    "loss = jax.jit(lambda params: model(params))\n",
    "grad_loss = jax.jit(jax.grad(lambda params: model(params)))"
   ]
  },
  {
   "cell_type": "code",
   "execution_count": null,
   "metadata": {},
   "outputs": [],
   "source": [
    "# Benchmark jitted pipeline\n",
    "likelihood = loss(params)\n",
    "likelihood"
   ]
  },
  {
   "cell_type": "code",
   "execution_count": null,
   "metadata": {},
   "outputs": [],
   "source": [
    "# Benchmark gradient\n",
    "grad = grad_loss(params)\n",
    "grad"
   ]
  }
 ],
 "metadata": {
  "kernelspec": {
   "display_name": "Python 3.10.12 ('jax-2dtm')",
   "language": "python",
   "name": "python3"
  },
  "language_info": {
   "codemirror_mode": {
    "name": "ipython",
    "version": 3
   },
   "file_extension": ".py",
   "mimetype": "text/x-python",
   "name": "python",
   "nbconvert_exporter": "python",
   "pygments_lexer": "ipython3",
   "version": "3.10.11"
  },
  "vscode": {
   "interpreter": {
    "hash": "d54389072f5f521d2ecfa69c70221601c9c73f7ba153ba5ad0df84f5e2694f8a"
   }
  }
 },
 "nbformat": 4,
 "nbformat_minor": 2
}
