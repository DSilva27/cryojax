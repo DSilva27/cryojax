{
 "cells": [
  {
   "cell_type": "code",
   "execution_count": null,
   "metadata": {},
   "outputs": [],
   "source": [
    "# Jax imports\n",
    "import jax\n",
    "import jax.numpy as jnp\n",
    "import numpy as np\n",
    "from jax import config\n",
    "\n",
    "config.update(\"jax_enable_x64\", False)"
   ]
  },
  {
   "cell_type": "code",
   "execution_count": null,
   "metadata": {},
   "outputs": [],
   "source": [
    "from matplotlib import pyplot as plt"
   ]
  },
  {
   "cell_type": "code",
   "execution_count": null,
   "metadata": {},
   "outputs": [],
   "source": [
    "# IO utils\n",
    "from jax_2dtm.io import load_grid_as_cloud"
   ]
  },
  {
   "cell_type": "code",
   "execution_count": null,
   "metadata": {},
   "outputs": [],
   "source": [
    "# Image simulator\n",
    "from jax_2dtm.simulator import NufftScattering\n",
    "from jax_2dtm.simulator import ScatteringImage, OpticsImage, GaussianImage\n",
    "from jax_2dtm.simulator import AntiAliasingFilter, WhiteningFilter\n",
    "from jax_2dtm.simulator import EulerPose, CTFOptics, Intensity, ExponentialNoise, WhiteNoise, ParameterState\n",
    "from jax_2dtm.utils import ifft, fftfreqs"
   ]
  },
  {
   "cell_type": "code",
   "execution_count": null,
   "metadata": {},
   "outputs": [],
   "source": [
    "# Volume filename and metadata\n",
    "pixel_size = 5.28  # Angstroms\n",
    "filename = \"../tests/data/3jar_13pf_bfm1_ps5_28.mrc\""
   ]
  },
  {
   "cell_type": "code",
   "execution_count": null,
   "metadata": {},
   "outputs": [],
   "source": [
    "# Configure image data and read template as point cloud\n",
    "config = NufftScattering((95, 95), pixel_size, pad_scale=1, eps=1e-6)\n",
    "#config = GaussianScattering((131, 131), pixel_size, pad=2, scale=1/3)\n",
    "cloud = load_grid_as_cloud(filename, config)"
   ]
  },
  {
   "cell_type": "code",
   "execution_count": null,
   "metadata": {},
   "outputs": [],
   "source": [
    "# Initialize model, parameters, and compute image\n",
    "pose = EulerPose(-30.0, 20.0, np.pi / 4, np.pi / 10, -np.pi / 6)\n",
    "optics = CTFOptics()\n",
    "noise = ExponentialNoise(key=jax.random.PRNGKey(seed=0), kappa=0.1, xi=6.0, alpha=0.5)\n",
    "intensity = Intensity()\n",
    "state = ParameterState(pose=pose, optics=optics, noise=noise, intensity=intensity)"
   ]
  },
  {
   "cell_type": "code",
   "execution_count": null,
   "metadata": {},
   "outputs": [],
   "source": [
    "scattering_model = ScatteringImage(config=config, cloud=cloud, state=state)\n",
    "optics_model = OpticsImage(config=config, cloud=cloud, state=state)\n",
    "noisy_model = GaussianImage(config=config, cloud=cloud, state=state)"
   ]
  },
  {
   "cell_type": "code",
   "execution_count": null,
   "metadata": {},
   "outputs": [],
   "source": [
    "# Plot models\n",
    "fig, axes = plt.subplots(ncols=3, figsize=(12, 6))\n",
    "ax1, ax2, ax3 = axes\n",
    "im1 = ax1.imshow(ifft(scattering_model()), origin=\"lower\", cmap=\"gray\")\n",
    "im2 = ax2.imshow(ifft(optics_model()), origin=\"lower\", cmap=\"gray\")\n",
    "im3 = ax3.imshow(ifft(noisy_model()), origin=\"lower\", cmap=\"gray\")"
   ]
  },
  {
   "attachments": {},
   "cell_type": "markdown",
   "metadata": {},
   "source": [
    "Now, let's test altering the image filters."
   ]
  },
  {
   "cell_type": "code",
   "execution_count": null,
   "metadata": {},
   "outputs": [],
   "source": [
    "# Instantiate image filters\n",
    "fig, ax = plt.subplots(figsize=(4, 4))\n",
    "micrograph_freqs = fftfreqs((1200, 800), pixel_size)\n",
    "micrograph = noise.sample(config.pixel_size * micrograph_freqs)\n",
    "whiten = WhiteningFilter(config.pixel_size * config.freqs, config.pixel_size * micrograph_freqs, micrograph)\n",
    "plt.imshow(ifft(whiten(noisy_model())), origin=\"lower\", cmap=\"gray\")"
   ]
  },
  {
   "cell_type": "markdown",
   "metadata": {},
   "source": [
    "We see that the whitening filter looks right, empirically! Now generate an image at a colored noise model with a given whitening filter"
   ]
  },
  {
   "cell_type": "code",
   "execution_count": null,
   "metadata": {},
   "outputs": [],
   "source": [
    "# Show forward model for a whitened image\n",
    "fig, ax = plt.subplots(figsize=(4, 4))\n",
    "white_noise = WhiteNoise(key=jax.random.PRNGKey(seed=0), alpha=1.0)\n",
    "filters = [AntiAliasingFilter(config.pixel_size * config.padded_freqs), WhiteningFilter(config.pixel_size * config.padded_freqs, config.pixel_size * micrograph_freqs, micrograph)]\n",
    "filtered_model = GaussianImage(config=config, cloud=cloud, state=state, filters=filters)\n",
    "ax.imshow(ifft(filtered_model.render()), origin=\"lower\", cmap=\"gray\")"
   ]
  },
  {
   "cell_type": "code",
   "execution_count": null,
   "metadata": {},
   "outputs": [],
   "source": [
    "# Visualize filters\n",
    "fig, axes = plt.subplots(ncols=2, figsize=(8, 6))\n",
    "ax1, ax2 = axes\n",
    "antialias, whiten = filters\n",
    "im1 = ax1.imshow(whiten.filter, cmap=\"gray\")\n",
    "im2 = ax2.imshow(antialias.filter, cmap=\"gray\")"
   ]
  },
  {
   "cell_type": "code",
   "execution_count": null,
   "metadata": {},
   "outputs": [],
   "source": [
    "# Visualize masks\n",
    "fig, ax = plt.subplots(figsize=(4, 3))\n",
    "circle = filtered_model.masks[0]\n",
    "im = ax.imshow(circle.mask, cmap=\"gray\")"
   ]
  },
  {
   "attachments": {},
   "cell_type": "markdown",
   "metadata": {},
   "source": [
    "Computing an image is straight-forward, but really we want to define a function that can be arbitrarily transformed by JAX and evaulated at subsets of the parameters."
   ]
  },
  {
   "cell_type": "code",
   "execution_count": null,
   "metadata": {},
   "outputs": [],
   "source": [
    "# Define subset of parameters over which to evaluate model, and jitted model\n",
    "params = dict(view_phi=np.pi, defocus_u=9000.0, sigma=1.0, N=1.0, mu=10.0)\n",
    "jitted_noisy_model = jax.jit(lambda params: noisy_model(params))"
   ]
  },
  {
   "cell_type": "code",
   "execution_count": null,
   "metadata": {},
   "outputs": [],
   "source": [
    "# Benchmark jitted pipeline\n",
    "jitted_noisy_image = jitted_noisy_model(params)"
   ]
  },
  {
   "cell_type": "code",
   "execution_count": null,
   "metadata": {},
   "outputs": [],
   "source": [
    "# Benchmark non-jitted pipeline\n",
    "noisy_image = noisy_model(params)"
   ]
  },
  {
   "attachments": {},
   "cell_type": "markdown",
   "metadata": {},
   "source": [
    "Now, we can also use the model to compute the likelihood. Let's evaulate the likelihood at the simulated data, and visualize the residuals."
   ]
  },
  {
   "cell_type": "code",
   "execution_count": null,
   "metadata": {},
   "outputs": [],
   "source": [
    "# Initialize the model and plot residuals\n",
    "fig, axes = plt.subplots(ncols=3, figsize=(12, 6))\n",
    "ax1, ax2, ax3 = axes\n",
    "noisy_model = GaussianImage(config=config, cloud=cloud, state=state, filters=[])\n",
    "observed = noisy_model()\n",
    "model = GaussianImage(config=config, cloud=cloud, state=state, observed=observed)\n",
    "simulated, observed, residuals = model.render(), model.observed, model.residuals()\n",
    "ax1.imshow(ifft(simulated), origin=\"lower\", cmap=\"gray\")\n",
    "ax2.imshow(ifft(observed), origin=\"lower\", cmap=\"gray\")\n",
    "ax3.imshow(ifft(residuals), origin=\"lower\", cmap=\"gray\")\n"
   ]
  },
  {
   "cell_type": "code",
   "execution_count": null,
   "metadata": {},
   "outputs": [],
   "source": [
    "# Compute likelihood\n",
    "loss = jax.jit(lambda params: model(params))\n",
    "grad_loss = jax.jit(jax.grad(lambda params: model(params)))"
   ]
  },
  {
   "cell_type": "code",
   "execution_count": null,
   "metadata": {},
   "outputs": [],
   "source": [
    "# Benchmark jitted pipeline\n",
    "likelihood = loss(params)\n",
    "likelihood"
   ]
  },
  {
   "cell_type": "code",
   "execution_count": null,
   "metadata": {},
   "outputs": [],
   "source": [
    "# Benchmark gradient\n",
    "grad = grad_loss(params)\n",
    "grad"
   ]
  }
 ],
 "metadata": {
  "kernelspec": {
   "display_name": "Python 3.10.12 ('jax-2dtm')",
   "language": "python",
   "name": "python3"
  },
  "language_info": {
   "codemirror_mode": {
    "name": "ipython",
    "version": 3
   },
   "file_extension": ".py",
   "mimetype": "text/x-python",
   "name": "python",
   "nbconvert_exporter": "python",
   "pygments_lexer": "ipython3",
   "version": "3.10.12"
  },
  "vscode": {
   "interpreter": {
    "hash": "d54389072f5f521d2ecfa69c70221601c9c73f7ba153ba5ad0df84f5e2694f8a"
   }
  }
 },
 "nbformat": 4,
 "nbformat_minor": 2
}
