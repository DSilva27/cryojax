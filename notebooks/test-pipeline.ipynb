{
 "cells": [
  {
   "cell_type": "code",
   "execution_count": null,
   "metadata": {},
   "outputs": [],
   "source": [
    "# Jax imports\n",
    "import jax\n",
    "import jax.numpy as jnp\n",
    "import numpy as np\n",
    "from jax import jit\n",
    "from jax import config\n",
    "config.update(\"jax_enable_x64\", False)"
   ]
  },
  {
   "cell_type": "code",
   "execution_count": null,
   "metadata": {},
   "outputs": [],
   "source": [
    "from matplotlib import pyplot as plt"
   ]
  },
  {
   "cell_type": "code",
   "execution_count": null,
   "metadata": {},
   "outputs": [],
   "source": [
    "# IO utils\n",
    "from jax_2dtm.io import load_grid_as_cloud"
   ]
  },
  {
   "cell_type": "code",
   "execution_count": null,
   "metadata": {},
   "outputs": [],
   "source": [
    "# Image simulator\n",
    "from jax_2dtm.simulator import rotate_and_translate, project, anti_aliasing_filter\n",
    "from jax_2dtm.simulator import Cloud, Pose, ImageConfig\n",
    "from jax_2dtm.simulator import ScatteringModel\n",
    "from jax_2dtm.simulator import ParameterState\n",
    "from jax_2dtm.utils import fft, ifft, fftfreqs"
   ]
  },
  {
   "cell_type": "code",
   "execution_count": null,
   "metadata": {},
   "outputs": [],
   "source": [
    "# Volume filename and metadata\n",
    "pixel_size = 5.28 # Angstroms\n",
    "filename = \"../tests/data/3jar_13pf_bfm1_ps5_28.mrc\""
   ]
  },
  {
   "cell_type": "code",
   "execution_count": null,
   "metadata": {},
   "outputs": [],
   "source": [
    "# Configure image data and read template as point cloud\n",
    "config = ImageConfig((60, 60), pixel_size, eps=1e-4)\n",
    "cloud = load_grid_as_cloud(filename, config, threshold=1e-4)"
   ]
  },
  {
   "cell_type": "code",
   "execution_count": null,
   "metadata": {},
   "outputs": [],
   "source": [
    "# Compute scattering image\n",
    "freqs = fftfreqs(config.shape, config.pixel_size)\n",
    "pose = Pose(np.pi/8, np.pi/10, np.pi/4, 50.0, 50.0)\n",
    "transformed_cloud = rotate_and_translate(cloud, pose)\n",
    "scattering_image = anti_aliasing_filter(freqs, config.pixel_size) * project(transformed_cloud, config)"
   ]
  },
  {
   "cell_type": "code",
   "execution_count": null,
   "metadata": {},
   "outputs": [],
   "source": [
    "# Plot scattering\n",
    "plt.imshow(ifft(scattering_image), origin=\"lower\", cmap=\"gray\")"
   ]
  },
  {
   "cell_type": "code",
   "execution_count": null,
   "metadata": {},
   "outputs": [],
   "source": [
    "# Sanity check that ffts are correct\n",
    "plt.imshow(ifft(fft(ifft(scattering_image))) - ifft(scattering_image), origin=\"lower\", cmap=\"gray\")\n",
    "plt.colorbar()"
   ]
  },
  {
   "cell_type": "markdown",
   "metadata": {},
   "source": [
    "Now that we have confirmed the pipeline works step-by-step, let's demonstrate how to use the API."
   ]
  },
  {
   "cell_type": "code",
   "execution_count": null,
   "metadata": {},
   "outputs": [],
   "source": [
    "# Initialize model, parameters, and compute image\n",
    "state = ParameterState(pose)\n",
    "model = ScatteringModel(config, cloud, state)\n",
    "scattering_image = model(state)\n",
    "plt.imshow(ifft(scattering_image), origin=\"lower\", cmap=\"gray\")"
   ]
  },
  {
   "cell_type": "markdown",
   "metadata": {},
   "source": [
    "Computing an image is straight-forward, but really we want to define a function that can be arbitrarily transformed by JAX and evaulated at subsets of the parameters."
   ]
  },
  {
   "cell_type": "code",
   "execution_count": null,
   "metadata": {},
   "outputs": [],
   "source": [
    "# Define subset of parameters over which to evaluate model\n",
    "pose = Pose(np.pi/8, np.pi/12, np.pi/4, 50.0, 50.0)\n",
    "state = ParameterState(pose=pose)\n",
    "params = dict(view_phi=np.pi)"
   ]
  },
  {
   "cell_type": "code",
   "execution_count": null,
   "metadata": {},
   "outputs": [],
   "source": [
    "# Define jitted pipeline, first defining the model globally\n",
    "model = ScatteringModel(config, cloud, state)\n",
    "\n",
    "@jax.jit\n",
    "def compute_image(params):\n",
    "    scattering_image = model(params)\n",
    "    return scattering_image"
   ]
  },
  {
   "cell_type": "code",
   "execution_count": null,
   "metadata": {},
   "outputs": [],
   "source": [
    "# Benchmark jitted pipeline\n",
    "%timeit scattering_image = compute_image(params).block_until_ready()"
   ]
  },
  {
   "cell_type": "code",
   "execution_count": null,
   "metadata": {},
   "outputs": [],
   "source": [
    "# Benchmark non-jitted pipeline\n",
    "%timeit scattering_image = model(params)"
   ]
  }
 ],
 "metadata": {
  "kernelspec": {
   "display_name": "Python 3.10.12 ('jax-2dtm')",
   "language": "python",
   "name": "python3"
  },
  "language_info": {
   "codemirror_mode": {
    "name": "ipython",
    "version": 3
   },
   "file_extension": ".py",
   "mimetype": "text/x-python",
   "name": "python",
   "nbconvert_exporter": "python",
   "pygments_lexer": "ipython3",
   "version": "3.10.11"
  },
  "vscode": {
   "interpreter": {
    "hash": "d54389072f5f521d2ecfa69c70221601c9c73f7ba153ba5ad0df84f5e2694f8a"
   }
  }
 },
 "nbformat": 4,
 "nbformat_minor": 2
}
