{
 "cells": [
  {
   "cell_type": "code",
   "execution_count": null,
   "metadata": {},
   "outputs": [],
   "source": [
    "# Jax imports\n",
    "import jax\n",
    "import jax.numpy as jnp\n",
    "import numpy as np\n",
    "from jax import config\n",
    "\n",
    "config.update(\"jax_enable_x64\", False)"
   ]
  },
  {
   "cell_type": "code",
   "execution_count": null,
   "metadata": {},
   "outputs": [],
   "source": [
    "from matplotlib import pyplot as plt\n",
    "from mpl_toolkits.axes_grid1 import make_axes_locatable"
   ]
  },
  {
   "cell_type": "code",
   "execution_count": null,
   "metadata": {},
   "outputs": [],
   "source": [
    "def plot_image(image, fig, ax, cmap=\"gray\", **kwargs):\n",
    "    im = ax.imshow(image, cmap=cmap, origin=\"lower\", **kwargs)\n",
    "    divider = make_axes_locatable(ax)\n",
    "    cax = divider.append_axes(\"right\", size=\"5%\", pad=0.05)\n",
    "    fig.colorbar(im, cax=cax)\n",
    "    return fig, ax"
   ]
  },
  {
   "cell_type": "code",
   "execution_count": null,
   "metadata": {},
   "outputs": [],
   "source": [
    "# IO utils\n",
    "from cryojax.io import load_grid_as_cloud"
   ]
  },
  {
   "cell_type": "code",
   "execution_count": null,
   "metadata": {},
   "outputs": [],
   "source": [
    "# Image simulator\n",
    "import cryojax.simulator as cs\n",
    "from cryojax.utils import ifft, fftfreqs"
   ]
  },
  {
   "cell_type": "code",
   "execution_count": null,
   "metadata": {},
   "outputs": [],
   "source": [
    "# Volume filename and metadata\n",
    "pixel_size = 5.28  # Angstroms\n",
    "filename = \"../tests/data/3jar_13pf_bfm1_ps5_28.mrc\"\n",
    "#pixel_size = 1.32  # Angstroms\n",
    "#filename = \"3jar_13pf_bfm1_ps1_32.mrc\""
   ]
  },
  {
   "cell_type": "code",
   "execution_count": null,
   "metadata": {},
   "outputs": [],
   "source": [
    "# Configure image data and read template as point cloud\n",
    "scattering = cs.NufftScattering((80, 80), pixel_size, pad_scale=2.5, eps=1e-5)\n",
    "cloud = load_grid_as_cloud(filename, scattering, atol=1e-6)"
   ]
  },
  {
   "cell_type": "code",
   "execution_count": null,
   "metadata": {},
   "outputs": [],
   "source": [
    "# Initialize model, parameters, and compute image\n",
    "pose = cs.EulerPose(-50.0, 30.0, np.pi / 4, np.pi / 10, -np.pi / 8)\n",
    "optics = cs.CTFOptics(defocus_u=10000, defocus_v=10000, amplitude_contrast=.07)\n",
    "ice = cs.ExponentialNoiseIce(key=jax.random.PRNGKey(seed=0), kappa=0.1, xi=3.0)\n",
    "exposure = cs.UniformExposure(N=1, mu=0)\n",
    "detector = cs.WhiteNoiseDetector(key=jax.random.PRNGKey(seed=1234), alpha=1.0)\n",
    "state = cs.ParameterState(pose=pose, ice=ice, optics=optics, exposure=exposure, detector=detector)"
   ]
  },
  {
   "cell_type": "code",
   "execution_count": null,
   "metadata": {},
   "outputs": [],
   "source": [
    "scattering_model = cs.ScatteringImage(scattering=scattering, specimen=cloud, state=state)\n",
    "optics_model = cs.OpticsImage(scattering=scattering, specimen=cloud, state=state)\n",
    "detector_model = cs.DetectorImage(scattering=scattering, specimen=cloud, state=state)"
   ]
  },
  {
   "cell_type": "code",
   "execution_count": null,
   "metadata": {},
   "outputs": [],
   "source": [
    "# Plot models\n",
    "fig, axes = plt.subplots(ncols=3, figsize=(12, 6))\n",
    "ax1, ax2, ax3 = axes\n",
    "im1 = plot_image(ifft(scattering_model()), fig, ax1)\n",
    "im2 = plot_image(ifft(optics_model()), fig, ax2)\n",
    "im3 = plot_image(ifft(detector_model()), fig, ax3)\n",
    "plt.tight_layout()"
   ]
  },
  {
   "attachments": {},
   "cell_type": "markdown",
   "metadata": {},
   "source": [
    "Now, let's test altering the image filters."
   ]
  },
  {
   "cell_type": "code",
   "execution_count": null,
   "metadata": {},
   "outputs": [],
   "source": [
    "# Instantiate image filters\n",
    "fig, ax = plt.subplots(figsize=(4, 4))\n",
    "micrograph_freqs = fftfreqs((800, 600), pixel_size)\n",
    "micrograph = ice.sample(scattering.pixel_size * micrograph_freqs) * optics(micrograph_freqs) + detector.sample(scattering.pixel_size * micrograph_freqs)\n",
    "whiten = cs.WhiteningFilter(scattering.pixel_size * scattering.freqs, scattering.pixel_size * micrograph_freqs, micrograph)\n",
    "plot_image(ifft(whiten(detector_model())), fig, ax)"
   ]
  },
  {
   "cell_type": "code",
   "execution_count": null,
   "metadata": {},
   "outputs": [],
   "source": [
    "plt.imshow(ifft(micrograph).T, origin=\"lower\", cmap=\"gray\")\n",
    "plt.colorbar()"
   ]
  },
  {
   "cell_type": "markdown",
   "metadata": {},
   "source": [
    "We see that the whitening filter looks right, empirically! Now generate an image at a colored noise model with a given whitening filter"
   ]
  },
  {
   "cell_type": "code",
   "execution_count": null,
   "metadata": {},
   "outputs": [],
   "source": [
    "# Show forward model for a whitened image\n",
    "fig, ax = plt.subplots(figsize=(4, 4))\n",
    "filters = [cs.AntiAliasingFilter(scattering.pixel_size * scattering.padded_freqs), cs.WhiteningFilter(scattering.pixel_size * scattering.padded_freqs, scattering.pixel_size * micrograph_freqs, micrograph)]\n",
    "filtered_model = cs.GaussianImage(scattering=scattering, specimen=cloud, state=state, filters=filters)\n",
    "plot_image(ifft(filtered_model.render()), fig, ax)"
   ]
  },
  {
   "cell_type": "code",
   "execution_count": null,
   "metadata": {},
   "outputs": [],
   "source": [
    "# Visualize filters\n",
    "fig, axes = plt.subplots(ncols=2, figsize=(8, 6))\n",
    "ax1, ax2 = axes\n",
    "antialias, whiten = filters\n",
    "im1 = plot_image(whiten.filter, fig, ax1, cmap=\"viridis\")\n",
    "im2 = plot_image(antialias.filter, fig, ax2, cmap=\"gray\")\n",
    "plt.tight_layout()"
   ]
  },
  {
   "attachments": {},
   "cell_type": "markdown",
   "metadata": {},
   "source": [
    "Computing an image is straight-forward, but really we want to define a function that can be arbitrarily transformed by JAX and evaulated at subsets of the parameters."
   ]
  },
  {
   "cell_type": "code",
   "execution_count": null,
   "metadata": {},
   "outputs": [],
   "source": [
    "# Define subset of parameters over which to evaluate model, and jitted model\n",
    "params = dict(view_phi=np.pi, defocus_u=9000.0, alpha=1.0, N=1.0, mu=0.0)\n",
    "jitted_model = jax.jit(lambda params: detector_model(params))"
   ]
  },
  {
   "cell_type": "code",
   "execution_count": null,
   "metadata": {},
   "outputs": [],
   "source": [
    "# Benchmark jitted pipeline\n",
    "# jitted_image = jitted_model(params)"
   ]
  },
  {
   "cell_type": "code",
   "execution_count": null,
   "metadata": {},
   "outputs": [],
   "source": [
    "# Benchmark non-jitted pipeline\n",
    "# image = detector_model(params)"
   ]
  },
  {
   "attachments": {},
   "cell_type": "markdown",
   "metadata": {},
   "source": [
    "Now, we can also use the model to compute the likelihood. Let's evaulate the likelihood at the simulated data, and visualize the residuals."
   ]
  },
  {
   "cell_type": "code",
   "execution_count": null,
   "metadata": {},
   "outputs": [],
   "source": [
    "# Initialize the model and plot residuals\n",
    "fig, axes = plt.subplots(ncols=3, figsize=(12, 6))\n",
    "ax1, ax2, ax3 = axes\n",
    "masks = [cs.CircularMask(scattering.coords/scattering.pixel_size)]\n",
    "observation_model = cs.GaussianImage(scattering=scattering, specimen=cloud, state=state, masks=[], filters=[])\n",
    "observed = observation_model()\n",
    "model = cs.GaussianImage(scattering=scattering, specimen=cloud, state=state, masks=masks, observed=observed)\n",
    "simulated, observed, residuals = model.render(), model.observed, model.residuals()\n",
    "plot_image(ifft(simulated), fig, ax1)\n",
    "plot_image(ifft(observed), fig, ax2)\n",
    "plot_image(ifft(residuals), fig, ax3)\n",
    "plt.tight_layout()\n"
   ]
  },
  {
   "cell_type": "code",
   "execution_count": null,
   "metadata": {},
   "outputs": [],
   "source": [
    "# Compute likelihood\n",
    "loss = lambda params: model(params)# jax.jit(lambda params: model(params))\n",
    "grad_loss = jax.grad(lambda params: model(params))#jax.jit(jax.grad(lambda params: model(params)))"
   ]
  },
  {
   "cell_type": "code",
   "execution_count": null,
   "metadata": {},
   "outputs": [],
   "source": [
    "# Benchmark jitted loss pipeline\n",
    "%timeit likelihood = loss(params)"
   ]
  },
  {
   "cell_type": "code",
   "execution_count": null,
   "metadata": {},
   "outputs": [],
   "source": [
    "# Benchmark gradient\n",
    "%timeit grad = grad_loss(params)"
   ]
  },
  {
   "cell_type": "code",
   "execution_count": null,
   "metadata": {},
   "outputs": [],
   "source": []
  },
  {
   "cell_type": "code",
   "execution_count": null,
   "metadata": {},
   "outputs": [],
   "source": []
  },
  {
   "cell_type": "code",
   "execution_count": null,
   "metadata": {},
   "outputs": [],
   "source": []
  }
 ],
 "metadata": {
  "kernelspec": {
   "display_name": "cryojax",
   "language": "python",
   "name": "python3"
  },
  "language_info": {
   "codemirror_mode": {
    "name": "ipython",
    "version": 3
   },
   "file_extension": ".py",
   "mimetype": "text/x-python",
   "name": "python",
   "nbconvert_exporter": "python",
   "pygments_lexer": "ipython3",
   "version": "3.9.15"
  }
 },
 "nbformat": 4,
 "nbformat_minor": 2
}
