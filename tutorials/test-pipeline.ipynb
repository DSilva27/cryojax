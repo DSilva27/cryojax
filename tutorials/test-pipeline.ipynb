{
 "cells": [
  {
   "cell_type": "markdown",
   "metadata": {},
   "source": [
    "### Let's demonstrate the image formation pipeline in ``cryojax``."
   ]
  },
  {
   "cell_type": "code",
   "execution_count": null,
   "metadata": {},
   "outputs": [],
   "source": [
    "# Jax imports\n",
    "import equinox as eqx\n",
    "import jax\n",
    "import jax.numpy as jnp\n",
    "import numpy as np\n",
    "from jax import config\n",
    "\n",
    "config.update(\"jax_enable_x64\", False)"
   ]
  },
  {
   "cell_type": "code",
   "execution_count": null,
   "metadata": {},
   "outputs": [],
   "source": [
    "# Plotting imports and function definitions\n",
    "from matplotlib import pyplot as plt\n",
    "from mpl_toolkits.axes_grid1 import make_axes_locatable"
   ]
  },
  {
   "cell_type": "code",
   "execution_count": null,
   "metadata": {},
   "outputs": [],
   "source": [
    "def plot_image(image, fig, ax, cmap=\"gray\", label=None, **kwargs):\n",
    "    im = ax.imshow(image, cmap=cmap, origin=\"lower\", **kwargs)\n",
    "    divider = make_axes_locatable(ax)\n",
    "    cax = divider.append_axes(\"right\", size=\"5%\", pad=0.05)\n",
    "    fig.colorbar(im, cax=cax)\n",
    "    if label is not None:\n",
    "        ax.set(title=label)\n",
    "    return fig, ax"
   ]
  },
  {
   "cell_type": "code",
   "execution_count": null,
   "metadata": {},
   "outputs": [],
   "source": [
    "# Image simulator imports\n",
    "import cryojax.simulator as cs\n",
    "from cryojax.utils import fftn, irfftn, fftfreqs"
   ]
  },
  {
   "cell_type": "code",
   "execution_count": null,
   "metadata": {},
   "outputs": [],
   "source": [
    "# Volume filename and metadata\n",
    "filename = \"../tests/data/3jar_13pf_bfm1_ps5_28.mrc\""
   ]
  },
  {
   "cell_type": "markdown",
   "metadata": {},
   "source": [
    "First we must read in our template into a given volume representation of the ``Specimen``. We also must choose its ``Pose``."
   ]
  },
  {
   "cell_type": "code",
   "execution_count": null,
   "metadata": {},
   "outputs": [],
   "source": [
    "# Read template into either an ElectronCloud or ElectronGrid\n",
    "resolution = 5.28  # Angstroms\n",
    "#density = cs.VoxelCloud.from_file(filename, config=dict(atol=1e-8))\n",
    "density = cs.VoxelGrid.from_file(filename, config=dict(pad_scale=1.5))\n",
    "pose = cs.EulerPose(offset_x=-50.0, offset_y=20.0, view_phi=-20, view_theta=100, view_psi=20)\n",
    "specimen = cs.Specimen(density=density, pose=pose, resolution=resolution)"
   ]
  },
  {
   "cell_type": "markdown",
   "metadata": {},
   "source": [
    "Next we have to choose a scattering (or in this case, projection) method. This will depend on the ``Specimen`` representation."
   ]
  },
  {
   "cell_type": "code",
   "execution_count": null,
   "metadata": {},
   "outputs": [],
   "source": [
    "# Configure the image formation process\n",
    "shape = (81, 82)\n",
    "pad_scale = 1.5\n",
    "#scattering = cs.NufftScattering(shape=shape, pad_scale=pad_scale, eps=1e-5)\n",
    "scattering = cs.FourierSliceScattering(shape=shape, pad_scale=pad_scale)"
   ]
  },
  {
   "cell_type": "markdown",
   "metadata": {},
   "source": [
    "Now, it's time to configure the imaging instrument. This, at minimum, requires an ``Optics`` model. Here, we also include models of the ``Exposure`` to the electron beam, and the ``Detector``. For example, by default the optics model is ``NullOptics``. Here, we configure multiple instruments to demonstrate different stages of the image formation pipeline."
   ]
  },
  {
   "cell_type": "code",
   "execution_count": null,
   "metadata": {},
   "outputs": [],
   "source": [
    "# Initialize the instrument\n",
    "optics = cs.CTFOptics(defocus_u=10000, defocus_v=10000, amplitude_contrast=.07)\n",
    "exposure = cs.UniformExposure(N=1e5, mu=0.0)\n",
    "detector = cs.GaussianDetector(pixel_size=resolution, key=jax.random.PRNGKey(seed=1234), variance=cs.Constant(1.0))\n",
    "instrument_s = cs.Instrument(exposure=exposure)\n",
    "instrument_o = cs.Instrument(exposure=exposure, optics=optics)\n",
    "instrument_d = cs.Instrument(exposure=exposure, optics=optics, detector=detector)"
   ]
  },
  {
   "cell_type": "markdown",
   "metadata": {},
   "source": [
    "Now, choose a model for the solvent. By default, this is just ``NullIce``. Here, we model the ice as gaussian colored noise with ``GaussianIce``."
   ]
  },
  {
   "cell_type": "code",
   "execution_count": null,
   "metadata": {},
   "outputs": [],
   "source": [
    "# Then, choose a model for the solvent\n",
    "solvent = cs.GaussianIce(key=jax.random.PRNGKey(seed=0), variance=cs.Exp(amplitude=1.0, scale=1.0))"
   ]
  },
  {
   "cell_type": "markdown",
   "metadata": {},
   "source": [
    "Finally, we can initialize our imaging model."
   ]
  },
  {
   "cell_type": "code",
   "execution_count": null,
   "metadata": {},
   "outputs": [],
   "source": [
    "# Image formation models\n",
    "scattering_model = cs.ImagePipeline(scattering=scattering, specimen=specimen, instrument=instrument_s, solvent=solvent)\n",
    "optics_model = cs.ImagePipeline(scattering=scattering, specimen=specimen, instrument=instrument_o, solvent=solvent)\n",
    "detector_model = cs.ImagePipeline(scattering=scattering, specimen=specimen, instrument=instrument_d, solvent=solvent)"
   ]
  },
  {
   "cell_type": "code",
   "execution_count": null,
   "metadata": {},
   "outputs": [],
   "source": [
    "# Plot models\n",
    "fig, axes = plt.subplots(ncols=3, figsize=(12, 6))\n",
    "ax1, ax2, ax3 = axes\n",
    "im1 = plot_image(scattering_model(), fig, ax1, label=\"Exit plane\")\n",
    "im2 = plot_image(optics_model(), fig, ax2, label=\"Detector plane\")\n",
    "im3 = plot_image(detector_model(), fig, ax3, label=\"Detector readout\")\n",
    "plt.tight_layout()"
   ]
  },
  {
   "cell_type": "markdown",
   "metadata": {},
   "source": [
    "Models can also include ``Filter``s. The following is a demonstration of a ``WhiteningFilter`` and a ``LowpassFilter``. These are precomputed upon initialization and applied automatically in the image formation pipeline. \n",
    "\n",
    "To compute a ``WhiteningFilter``, we first have to generate some synthetic data of structured noise from which we may compute its power spectrum."
   ]
  },
  {
   "cell_type": "code",
   "execution_count": null,
   "metadata": {},
   "outputs": [],
   "source": [
    "# Instantiate image filters\n",
    "fig, axes = plt.subplot_mosaic(\"\"\"\n",
    "AAAABBB\n",
    "\"\"\", figsize=(6.5, 3.5))\n",
    "freqs = fftfreqs((800, 600), pixel_size=resolution)\n",
    "micrograph = solvent.sample(freqs) * optics(freqs) + fftn(detector.sample(freqs))\n",
    "whiten = cs.WhiteningFilter(scattering.shape, micrograph=micrograph)\n",
    "plot_image(irfftn(micrograph.T), fig, axes[\"A\"], label=\"Synthetic micrograph\")\n",
    "plot_image(whiten.filter, fig, axes[\"B\"], label=\"Whitening filter\")\n",
    "plt.tight_layout()"
   ]
  },
  {
   "cell_type": "markdown",
   "metadata": {},
   "source": [
    "Now generate an image with the toy icy structured noise model with a given whitening filter. We will also apply a low pass filter for antialiasing."
   ]
  },
  {
   "cell_type": "code",
   "execution_count": null,
   "metadata": {},
   "outputs": [],
   "source": [
    "# Show forward model for a whitened image\n",
    "fig, ax = plt.subplots(figsize=(3.5, 3.5))\n",
    "filters = [cs.LowpassFilter(scattering.padded_shape, cutoff=0.95), cs.WhiteningFilter(scattering.padded_shape, micrograph=micrograph)]\n",
    "filtered_model = cs.ImagePipeline(scattering=scattering, specimen=specimen, instrument=instrument_d, filters=filters)\n",
    "plot_image(filtered_model.render(), fig, ax)"
   ]
  },
  {
   "cell_type": "markdown",
   "metadata": {},
   "source": [
    "If we want to solve the inverse problem and find the model parameters that most likely generated the data, we want to define a function that can be arbitrarily transformed by JAX and evaulated at subsets of the parameters."
   ]
  },
  {
   "cell_type": "code",
   "execution_count": null,
   "metadata": {},
   "outputs": [],
   "source": [
    "def update_model(pixel_size: jax.Array, model: cs.GaussianImage) -> cs.GaussianImage:\n",
    "    return eqx.tree_at(lambda m: m.instrument.detector.pixel_size, model, pixel_size)\n",
    "\n",
    "@jax.jit\n",
    "def compute_image(pixel_size: jax.Array, model: cs.GaussianImage) -> jax.Array:\n",
    "    model = update_model(pixel_size, model)\n",
    "    return model()"
   ]
  },
  {
   "cell_type": "code",
   "execution_count": null,
   "metadata": {},
   "outputs": [],
   "source": [
    "# Plot jitted model with updated parameters.\n",
    "fig, axes = plt.subplots(ncols=2, figsize=(8, 6))\n",
    "ax1, ax2 = axes\n",
    "plot_image(compute_image(detector.pixel_size, detector_model), fig, ax1)\n",
    "plot_image(compute_image(2*detector.pixel_size, detector_model), fig, ax2)"
   ]
  },
  {
   "cell_type": "markdown",
   "metadata": {},
   "source": [
    "Now, we can also use the model to compute a likelihood. For this, we can use the ``GaussianImage`` model. This is a subclass of the ``ImagePipeline``, adding the ability to evaulate a likelihood. Let's evaulate the likelihood at the simulated data, and visualize the residuals."
   ]
  },
  {
   "cell_type": "code",
   "execution_count": null,
   "metadata": {},
   "outputs": [],
   "source": [
    "# Initialize the model and plot residuals\n",
    "fig, axes = plt.subplots(ncols=3, figsize=(12, 6))\n",
    "ax1, ax2, ax3 = axes\n",
    "mask = cs.CircularMask(scattering.shape)\n",
    "masks = [mask]\n",
    "observation_model = cs.GaussianImage(scattering=scattering, specimen=specimen, instrument=instrument_d)\n",
    "observed = mask(observation_model())\n",
    "model = cs.GaussianImage(scattering=scattering, specimen=specimen, instrument=instrument_d, masks=masks, observed=observed)\n",
    "simulated, observed, residuals = model.render(), model.observed, model.residuals\n",
    "plot_image(simulated, fig, ax1)\n",
    "plot_image(observed, fig, ax2)\n",
    "plot_image(residuals, fig, ax3)\n",
    "plt.tight_layout()"
   ]
  },
  {
   "cell_type": "markdown",
   "metadata": {},
   "source": [
    "Evaluating the ``GaussianImage`` with the observed data set will automatically evaulate the ``GausianImage.log_likelihood`` function."
   ]
  },
  {
   "cell_type": "code",
   "execution_count": null,
   "metadata": {},
   "outputs": [],
   "source": [
    "def update_model(pixel_size: jax.Array, model: cs.GaussianImage) -> cs.GaussianImage:\n",
    "    return eqx.tree_at(lambda m: m.instrument.detector.pixel_size, model, pixel_size)\n",
    "\n",
    "@jax.jit\n",
    "def compute_loss(pixel_size: jax.Array, model: cs.GaussianImage) -> jax.Array:\n",
    "    model = update_model(pixel_size, model)\n",
    "    return model()\n",
    "\n",
    "@jax.jit\n",
    "@jax.grad\n",
    "def compute_grad(pixel_size: jax.Array, model: cs.GaussianImage) -> jax.Array:\n",
    "    return compute_loss(pixel_size, model)"
   ]
  },
  {
   "cell_type": "code",
   "execution_count": null,
   "metadata": {},
   "outputs": [],
   "source": [
    "# Benchmark loss pipeline\n",
    "%timeit likelihood = compute_loss(detector.pixel_size+.01, model)"
   ]
  },
  {
   "cell_type": "code",
   "execution_count": null,
   "metadata": {},
   "outputs": [],
   "source": [
    "# Benchmark gradient pipeline\n",
    "%timeit grad = compute_grad(detector.pixel_size+.01, model)"
   ]
  }
 ],
 "metadata": {
  "kernelspec": {
   "display_name": "cryojax",
   "language": "python",
   "name": "cryojax"
  },
  "language_info": {
   "codemirror_mode": {
    "name": "ipython",
    "version": 3
   },
   "file_extension": ".py",
   "mimetype": "text/x-python",
   "name": "python",
   "nbconvert_exporter": "python",
   "pygments_lexer": "ipython3",
   "version": "3.11.2"
  }
 },
 "nbformat": 4,
 "nbformat_minor": 4
}
