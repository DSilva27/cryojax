{
 "cells": [
  {
   "cell_type": "markdown",
   "metadata": {},
   "source": [
    "### Let's demonstrate the image formation pipeline in ``cryojax``."
   ]
  },
  {
   "cell_type": "code",
   "execution_count": null,
   "metadata": {},
   "outputs": [],
   "source": [
    "# Jax imports\n",
    "import jax\n",
    "import jax.numpy as jnp\n",
    "import numpy as np\n",
    "from jax import config\n",
    "\n",
    "config.update(\"jax_enable_x64\", False)"
   ]
  },
  {
   "cell_type": "code",
   "execution_count": null,
   "metadata": {},
   "outputs": [],
   "source": [
    "# Plotting imports and function definitions\n",
    "from matplotlib import pyplot as plt\n",
    "from mpl_toolkits.axes_grid1 import make_axes_locatable"
   ]
  },
  {
   "cell_type": "code",
   "execution_count": null,
   "metadata": {},
   "outputs": [],
   "source": [
    "def plot_image(image, fig, ax, cmap=\"gray\", **kwargs):\n",
    "    im = ax.imshow(image, cmap=cmap, origin=\"lower\", **kwargs)\n",
    "    divider = make_axes_locatable(ax)\n",
    "    cax = divider.append_axes(\"right\", size=\"5%\", pad=0.05)\n",
    "    fig.colorbar(im, cax=cax)\n",
    "    return fig, ax"
   ]
  },
  {
   "cell_type": "code",
   "execution_count": null,
   "metadata": {},
   "outputs": [],
   "source": [
    "# Image simulator imports\n",
    "import cryojax.simulator as cs\n",
    "from cryojax.utils import fft, irfft, fftfreqs"
   ]
  },
  {
   "cell_type": "code",
   "execution_count": null,
   "metadata": {},
   "outputs": [],
   "source": [
    "# Volume filename and metadata\n",
    "filename = \"../tests/data/3jar_13pf_bfm1_ps5_28.mrc\""
   ]
  },
  {
   "cell_type": "markdown",
   "metadata": {},
   "source": [
    "First we must read in our template into a given volume representation of the ``Specimen``."
   ]
  },
  {
   "cell_type": "code",
   "execution_count": null,
   "metadata": {},
   "outputs": [],
   "source": [
    "# Read template into either an ElectronCloud or ElectronGrid\n",
    "resolution = 5.28  # Angstroms\n",
    "#density = cs.ElectronCloud.from_file(filename, resolution=resolution, config=dict(atol=1e-8))\n",
    "density = cs.ElectronGrid.from_file(filename, resolution=resolution, config=dict(pad_scale=1.5))\n",
    "specimen = cs.Specimen(density=density)"
   ]
  },
  {
   "cell_type": "markdown",
   "metadata": {},
   "source": [
    "Next we have to choose a scattering (or in this case, projection) method. This will depend on the ``Specimen`` representation."
   ]
  },
  {
   "cell_type": "code",
   "execution_count": null,
   "metadata": {},
   "outputs": [],
   "source": [
    "# Configure the image formation process\n",
    "shape = (81, 82)\n",
    "pad_scale = 1.5\n",
    "#scattering = cs.NufftScattering(shape=shape, pad_scale=pad_scale, eps=1e-5)\n",
    "scattering = cs.FourierSliceScattering(shape=shape, pad_scale=pad_scale)"
   ]
  },
  {
   "cell_type": "markdown",
   "metadata": {},
   "source": [
    "Now, it's time to configure the image formation pipeline. This, at minimum, requires a ``Pose``. ``Optics`` models---in particular a model of the contrast transfer function---should also be included. Here, we also include models of the ``Ice``, ``Exposure`` to the electron beam, and the ``Detector``. Each of these models, except for the ``Pose``, also includes a null model. For example, by default the exposure model is ``NullIce``."
   ]
  },
  {
   "cell_type": "code",
   "execution_count": null,
   "metadata": {},
   "outputs": [],
   "source": [
    "# Initialize the image formation pipeline\n",
    "pose = cs.EulerPose(offset_x=-50.0, offset_y=20.0, view_phi=-20, view_theta=100, view_psi=20)\n",
    "optics = cs.CTFOptics(defocus_u=10000, defocus_v=10000, amplitude_contrast=.07)\n",
    "ice = cs.GaussianIce(key=jax.random.PRNGKey(seed=0), variance=cs.Exp(amplitude=0.1, scale=1.0))\n",
    "exposure = cs.UniformExposure(N=1, mu=0)\n",
    "detector = cs.GaussianDetector(pixel_size=5.29, key=jax.random.PRNGKey(seed=1234))"
   ]
  },
  {
   "cell_type": "code",
   "execution_count": null,
   "metadata": {},
   "outputs": [],
   "source": [
    "# Compile the image formation pipeline into the PipelineState\n",
    "state = cs.PipelineState(pose=pose, ice=ice, optics=optics, exposure=exposure, detector=detector)"
   ]
  },
  {
   "cell_type": "markdown",
   "metadata": {},
   "source": [
    "Finally, we can initialize our imaging models. Models are included that render images in the exit plane of the specimen (``ScatteringImage``), in the detector plane (``OpticsImage``), and from the detector readout (``DetectorImage``)."
   ]
  },
  {
   "cell_type": "code",
   "execution_count": null,
   "metadata": {},
   "outputs": [],
   "source": [
    "# Image formation models\n",
    "scattering_model = cs.ScatteringImage(scattering=scattering, specimen=specimen, state=state)\n",
    "optics_model = cs.OpticsImage(scattering=scattering, specimen=specimen, state=state)\n",
    "detector_model = cs.DetectorImage(scattering=scattering, specimen=specimen, state=state)"
   ]
  },
  {
   "cell_type": "code",
   "execution_count": null,
   "metadata": {},
   "outputs": [],
   "source": [
    "# Plot scattering in fourier space\n",
    "fig, ax = plt.subplots(figsize=(3.25, 3.25))\n",
    "im = plot_image(jnp.log10(jnp.abs(scattering_model.render(view=False))), fig, ax)\n",
    "plt.tight_layout()"
   ]
  },
  {
   "cell_type": "code",
   "execution_count": null,
   "metadata": {},
   "outputs": [],
   "source": [
    "# Plot models\n",
    "fig, axes = plt.subplots(ncols=3, figsize=(12, 6))\n",
    "ax1, ax2, ax3 = axes\n",
    "im1 = plot_image(scattering_model(), fig, ax1)\n",
    "im2 = plot_image(optics_model(), fig, ax2)\n",
    "im3 = plot_image(detector_model(), fig, ax3)\n",
    "plt.tight_layout()"
   ]
  },
  {
   "cell_type": "markdown",
   "metadata": {},
   "source": [
    "Models can also include ``Filter``s. The following is a demonstration of a ``WhiteningFilter`` and a ``LowpassFilter``. These are precomputed upon initialization and applied automatically in the image formation pipeline. \n",
    "\n",
    "To compute a ``WhiteningFilter``, we first have to generate some synthetic data of structured noise from which we may compute its power spectrum."
   ]
  },
  {
   "cell_type": "code",
   "execution_count": null,
   "metadata": {},
   "outputs": [],
   "source": [
    "# Instantiate image filters\n",
    "fig, ax = plt.subplots(figsize=(3.5, 3.5))\n",
    "freqs = fftfreqs((800, 600), pixel_size=detector.pixel_size)\n",
    "micrograph = ice.sample(freqs) * optics(freqs) + detector.sample(freqs)\n",
    "whiten = cs.WhiteningFilter(scattering.shape, micrograph=micrograph)\n",
    "plot_image(irfft(whiten(fft(detector_model()))), fig, ax)"
   ]
  },
  {
   "cell_type": "markdown",
   "metadata": {},
   "source": [
    "We see that the whitening filter looks right, empirically! Now generate an image with the toy icy structured noise model with a given whitening filter. We will also apply a whitening filter for antialiasing."
   ]
  },
  {
   "cell_type": "code",
   "execution_count": null,
   "metadata": {},
   "outputs": [],
   "source": [
    "# Show forward model for a whitened image\n",
    "fig, ax = plt.subplots(figsize=(3.5, 3.5))\n",
    "filters = [cs.LowpassFilter(scattering.padded_shape, cutoff=0.95), cs.WhiteningFilter(scattering.padded_shape, micrograph=micrograph)]\n",
    "filtered_model = cs.GaussianImage(scattering=scattering, specimen=specimen, state=state, filters=filters)\n",
    "plot_image(filtered_model.render(), fig, ax)"
   ]
  },
  {
   "cell_type": "code",
   "execution_count": null,
   "metadata": {},
   "outputs": [],
   "source": [
    "# Visualize filters\n",
    "fig, axes = plt.subplots(ncols=2, figsize=(7, 5))\n",
    "ax1, ax2 = axes\n",
    "antialias, whiten = filters\n",
    "im1 = plot_image(whiten.filter, fig, ax1, cmap=\"viridis\")\n",
    "im2 = plot_image(antialias.filter, fig, ax2, cmap=\"gray\")\n",
    "plt.tight_layout()"
   ]
  },
  {
   "cell_type": "markdown",
   "metadata": {},
   "source": [
    "From all of the above, we see that computing an image is straight-forward. In practice, if we want to solve the inverse problem and find the model parameters that most likely generated the data, we want to define a function that can be arbitrarily transformed by JAX and evaulated at subsets of the parameters.\n",
    "\n",
    "``Image`` models can take in these dictionaries, search over existing parameters, and update them in the underlying models in the ``PipelineState`` or ``Specimen``. This search introduces some python overhead, which can be optimized away with ``jax.jit``."
   ]
  },
  {
   "cell_type": "code",
   "execution_count": null,
   "metadata": {},
   "outputs": [],
   "source": [
    "# Define jitted model\n",
    "jitted_model = jax.jit(lambda params: detector_model(**params))"
   ]
  },
  {
   "cell_type": "code",
   "execution_count": null,
   "metadata": {},
   "outputs": [],
   "source": [
    "# Define subset of parameters over which to evaluate model\n",
    "params = dict(view_psi=180.0, defocus_u=9000.0, alpha=1.0, N=1.0, mu=0.0, pixel_size=5.0)"
   ]
  },
  {
   "cell_type": "code",
   "execution_count": null,
   "metadata": {},
   "outputs": [],
   "source": [
    "# Plot model with updated parameters.\n",
    "fig, axes = plt.subplots(ncols=2, figsize=(8, 6))\n",
    "ax1, ax2 = axes\n",
    "plot_image(jitted_model({}), fig, ax1)\n",
    "plot_image(jitted_model(params), fig, ax2)"
   ]
  },
  {
   "cell_type": "markdown",
   "metadata": {},
   "source": [
    "Now, we can also use the model to compute a likelihood. For this, we can use the ``GaussianImage`` model. This is a subclass of the ``DetectorImage``, adding the ability to evaulate a likelihood. Let's evaulate the likelihood at the simulated data, and visualize the residuals."
   ]
  },
  {
   "cell_type": "code",
   "execution_count": null,
   "metadata": {},
   "outputs": [],
   "source": [
    "# Initialize the model and plot residuals\n",
    "fig, axes = plt.subplots(ncols=3, figsize=(12, 6))\n",
    "ax1, ax2, ax3 = axes\n",
    "mask = cs.CircularMask(scattering.shape)\n",
    "masks = [mask]\n",
    "observation_model = cs.GaussianImage(scattering=scattering, specimen=specimen, state=state)\n",
    "observed = mask(observation_model())\n",
    "model = cs.GaussianImage(scattering=scattering, specimen=specimen, state=state, masks=masks, observed=observed)\n",
    "simulated, observed, residuals = model.render(), model.observed, model.residuals()\n",
    "plot_image(simulated, fig, ax1)\n",
    "plot_image(observed, fig, ax2)\n",
    "plot_image(residuals, fig, ax3)\n",
    "plt.tight_layout()"
   ]
  },
  {
   "cell_type": "markdown",
   "metadata": {},
   "source": [
    "Evaluating the ``GaussianImage`` with the observed data set will automatically evaulate the ``GausianImage.log_likelihood`` function."
   ]
  },
  {
   "cell_type": "code",
   "execution_count": null,
   "metadata": {},
   "outputs": [],
   "source": [
    "# Loss and gradient pipelines\n",
    "loss = lambda params: model(**params)\n",
    "grad_loss = jax.grad(lambda params: model(**params))"
   ]
  },
  {
   "cell_type": "code",
   "execution_count": null,
   "metadata": {},
   "outputs": [],
   "source": [
    "# Benchmark loss pipeline\n",
    "%timeit likelihood = loss(params)"
   ]
  },
  {
   "cell_type": "code",
   "execution_count": null,
   "metadata": {},
   "outputs": [],
   "source": [
    "# Benchmark gradient pipeline\n",
    "%timeit grad = grad_loss(params)"
   ]
  },
  {
   "cell_type": "code",
   "execution_count": null,
   "metadata": {},
   "outputs": [],
   "source": [
    "# Jitted loss and gradient pipeline\n",
    "jitted_loss = jax.jit(lambda params: model(**params))\n",
    "jitted_grad_loss = jax.jit(jax.grad(lambda params: model(**params)))"
   ]
  },
  {
   "cell_type": "code",
   "execution_count": null,
   "metadata": {},
   "outputs": [],
   "source": [
    "# Benchmark loss pipeline\n",
    "%timeit loss = jitted_loss(params).block_until_ready()"
   ]
  },
  {
   "cell_type": "code",
   "execution_count": null,
   "metadata": {},
   "outputs": [],
   "source": [
    "# Benchmark gradient pipeline\n",
    "%timeit grad = jitted_grad_loss(params)"
   ]
  },
  {
   "cell_type": "code",
   "execution_count": null,
   "metadata": {},
   "outputs": [],
   "source": []
  },
  {
   "cell_type": "code",
   "execution_count": null,
   "metadata": {},
   "outputs": [],
   "source": []
  }
 ],
 "metadata": {
  "kernelspec": {
   "display_name": "cryojax",
   "language": "python",
   "name": "python3"
  },
  "language_info": {
   "codemirror_mode": {
    "name": "ipython",
    "version": 3
   },
   "file_extension": ".py",
   "mimetype": "text/x-python",
   "name": "python",
   "nbconvert_exporter": "python",
   "pygments_lexer": "ipython3",
   "version": "3.10.12"
  }
 },
 "nbformat": 4,
 "nbformat_minor": 4
}
