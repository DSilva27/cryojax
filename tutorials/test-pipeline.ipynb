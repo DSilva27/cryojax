{
 "cells": [
  {
   "cell_type": "code",
   "execution_count": null,
   "metadata": {},
   "outputs": [],
   "source": [
    "# Jax imports\n",
    "import jax\n",
    "import jax.numpy as jnp\n",
    "import numpy as np\n",
    "from jax import config\n",
    "\n",
    "config.update(\"jax_enable_x64\", False)"
   ]
  },
  {
   "cell_type": "code",
   "execution_count": null,
   "metadata": {},
   "outputs": [],
   "source": [
    "from matplotlib import pyplot as plt\n",
    "from mpl_toolkits.axes_grid1 import make_axes_locatable"
   ]
  },
  {
   "cell_type": "code",
   "execution_count": null,
   "metadata": {},
   "outputs": [],
   "source": [
    "def plot_image(image, fig, ax, cmap=\"gray\", **kwargs):\n",
    "    im = ax.imshow(image, cmap=cmap, origin=\"lower\", **kwargs)\n",
    "    divider = make_axes_locatable(ax)\n",
    "    cax = divider.append_axes(\"right\", size=\"5%\", pad=0.05)\n",
    "    fig.colorbar(im, cax=cax)\n",
    "    return fig, ax"
   ]
  },
  {
   "cell_type": "code",
   "execution_count": null,
   "metadata": {},
   "outputs": [],
   "source": [
    "# Image simulator\n",
    "import cryojax.simulator as cs\n",
    "from cryojax.utils import fft, irfft, fftfreqs"
   ]
  },
  {
   "cell_type": "code",
   "execution_count": null,
   "metadata": {},
   "outputs": [],
   "source": [
    "# Volume filename and metadata\n",
    "resolution = 5.28  # Angstroms\n",
    "filename = \"../tests/data/3jar_13pf_bfm1_ps5_28.mrc\""
   ]
  },
  {
   "cell_type": "code",
   "execution_count": null,
   "metadata": {},
   "outputs": [],
   "source": [
    "# Configure image data and read template\n",
    "scattering = cs.NufftScattering(shape=(80, 80), resolution=resolution, pad_scale=1.2, eps=1e-5)\n",
    "cloud = cs.ElectronCloud.from_file(filename, atol=1e-8)\n",
    "scattering = cs.FourierSliceScattering(shape=(80, 80), resolution=resolution, pad_scale=1.5)\n",
    "cloud = cs.ElectronGrid.from_file(filename, pad_scale=1.5)"
   ]
  },
  {
   "cell_type": "code",
   "execution_count": null,
   "metadata": {},
   "outputs": [],
   "source": [
    "# Initialize model, parameters, and compute image\n",
    "pose = cs.EulerPose(offset_x=0.0, offset_y=0.0, view_phi=-np.pi / 4, view_theta=np.pi / 2+np.pi/10, view_psi=np.pi / 8)\n",
    "optics = cs.CTFOptics(defocus_u=10000, defocus_v=10000, amplitude_contrast=.07)\n",
    "ice = cs.ExponentialNoiseIce(key=jax.random.PRNGKey(seed=0), kappa=0.0, xi=1e-3, gamma=0.0)\n",
    "exposure = cs.UniformExposure(N=1, mu=0)\n",
    "detector = cs.WhiteNoiseDetector(pixel_size=5.29, key=jax.random.PRNGKey(seed=1234), alpha=1.0)\n",
    "state = cs.PipelineState(pose=pose, ice=ice, optics=optics, exposure=exposure, detector=detector)"
   ]
  },
  {
   "cell_type": "code",
   "execution_count": null,
   "metadata": {},
   "outputs": [],
   "source": [
    "scattering_model = cs.ScatteringImage(scattering=scattering, specimen=cloud, state=state)#, filters=[])\n",
    "optics_model = cs.OpticsImage(scattering=scattering, specimen=cloud, state=state)#, filters=[])\n",
    "detector_model = cs.DetectorImage(scattering=scattering, specimen=cloud, state=state)#, filters=[])"
   ]
  },
  {
   "cell_type": "code",
   "execution_count": null,
   "metadata": {},
   "outputs": [],
   "source": [
    "# Plot scattering in fourier space\n",
    "fig, ax = plt.subplots(figsize=(3.25, 3.25))\n",
    "im = plot_image(jnp.log(jnp.abs(fft(scattering_model.render()))), fig, ax)\n",
    "plt.tight_layout()"
   ]
  },
  {
   "cell_type": "code",
   "execution_count": null,
   "metadata": {},
   "outputs": [],
   "source": [
    "# Plot models\n",
    "fig, axes = plt.subplots(ncols=3, figsize=(12, 6))\n",
    "ax1, ax2, ax3 = axes\n",
    "im1 = plot_image(scattering_model(), fig, ax1)\n",
    "im2 = plot_image(optics_model(), fig, ax2)\n",
    "im3 = plot_image(detector_model(), fig, ax3)\n",
    "plt.tight_layout()"
   ]
  },
  {
   "cell_type": "code",
   "execution_count": null,
   "metadata": {},
   "outputs": [],
   "source": [
    "# Instantiate image filters\n",
    "fig, ax = plt.subplots(figsize=(4, 4))\n",
    "micrograph_freqs = fftfreqs((800, 600), pixel_size=detector.pixel_size)\n",
    "micrograph = ice.sample(micrograph_freqs) * optics(micrograph_freqs) + detector.sample(micrograph_freqs)\n",
    "whiten = cs.WhiteningFilter(scattering.freqs, detector.pixel_size * micrograph_freqs, micrograph)\n",
    "plot_image(irfft(whiten(fft(detector_model()))), fig, ax)"
   ]
  },
  {
   "cell_type": "code",
   "execution_count": null,
   "metadata": {},
   "outputs": [],
   "source": [
    "plt.imshow(irfft(micrograph).T, origin=\"lower\", cmap=\"gray\")\n",
    "plt.colorbar()"
   ]
  },
  {
   "cell_type": "markdown",
   "metadata": {},
   "source": [
    "We see that the whitening filter looks right, empirically! Now generate an image at a colored noise model with a given whitening filter"
   ]
  },
  {
   "cell_type": "code",
   "execution_count": null,
   "metadata": {},
   "outputs": [],
   "source": [
    "# Show forward model for a whitened image\n",
    "fig, ax = plt.subplots(figsize=(4, 4))\n",
    "filters = [cs.LowpassFilter(scattering.padded_freqs), cs.WhiteningFilter(scattering.padded_freqs, detector.pixel_size * micrograph_freqs, micrograph)]\n",
    "filtered_model = cs.GaussianImage(scattering=scattering, specimen=cloud, state=state, filters=filters)\n",
    "plot_image(filtered_model.render(), fig, ax)"
   ]
  },
  {
   "cell_type": "code",
   "execution_count": null,
   "metadata": {},
   "outputs": [],
   "source": [
    "# Visualize filters\n",
    "fig, axes = plt.subplots(ncols=2, figsize=(8, 6))\n",
    "ax1, ax2 = axes\n",
    "antialias, whiten = filters\n",
    "im1 = plot_image(whiten.filter, fig, ax1, cmap=\"viridis\")\n",
    "im2 = plot_image(antialias.filter, fig, ax2, cmap=\"gray\")\n",
    "plt.tight_layout()"
   ]
  },
  {
   "attachments": {},
   "cell_type": "markdown",
   "metadata": {},
   "source": [
    "Computing an image is straight-forward, but really we want to define a function that can be arbitrarily transformed by JAX and evaulated at subsets of the parameters."
   ]
  },
  {
   "cell_type": "code",
   "execution_count": null,
   "metadata": {},
   "outputs": [],
   "source": [
    "# Define subset of parameters over which to evaluate model, and jitted model\n",
    "params = dict(view_psi=np.pi, defocus_u=9000.0, alpha=1.0, N=1.0, mu=0.0, pixel_size=5.0)\n",
    "jitted_model = jax.jit(lambda params: detector_model(params))"
   ]
  },
  {
   "cell_type": "code",
   "execution_count": null,
   "metadata": {},
   "outputs": [],
   "source": [
    "# Plot model with updated parameters.\n",
    "fig, axes = plt.subplots(ncols=2, figsize=(8, 6))\n",
    "ax1, ax2 = axes\n",
    "plot_image(optics_model(), fig, ax1)\n",
    "plot_image(optics_model(params), fig, ax2)"
   ]
  },
  {
   "cell_type": "code",
   "execution_count": null,
   "metadata": {},
   "outputs": [],
   "source": [
    "# Benchmark jitted pipeline\n",
    "# jitted_image = jitted_model(params)"
   ]
  },
  {
   "cell_type": "code",
   "execution_count": null,
   "metadata": {},
   "outputs": [],
   "source": [
    "# Benchmark non-jitted pipeline\n",
    "# image = detector_model(params)"
   ]
  },
  {
   "attachments": {},
   "cell_type": "markdown",
   "metadata": {},
   "source": [
    "Now, we can also use the model to compute the likelihood. Let's evaulate the likelihood at the simulated data, and visualize the residuals."
   ]
  },
  {
   "cell_type": "code",
   "execution_count": null,
   "metadata": {},
   "outputs": [],
   "source": [
    "# Initialize the model and plot residuals\n",
    "fig, axes = plt.subplots(ncols=3, figsize=(12, 6))\n",
    "ax1, ax2, ax3 = axes\n",
    "masks = [cs.CircularMask(scattering.coords)]\n",
    "observation_model = cs.GaussianImage(scattering=scattering, specimen=cloud, state=state, masks=[], filters=[])\n",
    "observed = observation_model()\n",
    "model = cs.GaussianImage(scattering=scattering, specimen=cloud, state=state, masks=masks, observed=observed)\n",
    "simulated, observed, residuals = model.render(), model.observed, model.residuals()\n",
    "plot_image(simulated, fig, ax1)\n",
    "plot_image(observed, fig, ax2)\n",
    "plot_image(residuals, fig, ax3)\n",
    "plt.tight_layout()"
   ]
  },
  {
   "cell_type": "code",
   "execution_count": null,
   "metadata": {},
   "outputs": [],
   "source": [
    "# Loss and gradient pipelines\n",
    "loss = lambda params: model(params)\n",
    "grad_loss = jax.grad(lambda params: model(params))"
   ]
  },
  {
   "cell_type": "code",
   "execution_count": null,
   "metadata": {},
   "outputs": [],
   "source": [
    "# Benchmark loss pipeline\n",
    "%timeit likelihood = loss(params)"
   ]
  },
  {
   "cell_type": "code",
   "execution_count": null,
   "metadata": {},
   "outputs": [],
   "source": [
    "# Benchmark gradient pipeline\n",
    "%timeit grad = grad_loss(params)"
   ]
  },
  {
   "cell_type": "code",
   "execution_count": null,
   "metadata": {},
   "outputs": [],
   "source": [
    "# Jitted loss and gradient pipeline\n",
    "grad_loss = jax.jit(jax.value_and_grad(lambda params: model(params)))"
   ]
  },
  {
   "cell_type": "code",
   "execution_count": null,
   "metadata": {},
   "outputs": [],
   "source": [
    "# Benchmark gradient pipeline\n",
    "%timeit grad = grad_loss(params)"
   ]
  },
  {
   "cell_type": "code",
   "execution_count": null,
   "metadata": {},
   "outputs": [],
   "source": []
  }
 ],
 "metadata": {
  "kernelspec": {
   "display_name": "cryojax",
   "language": "python",
   "name": "python3"
  },
  "language_info": {
   "codemirror_mode": {
    "name": "ipython",
    "version": 3
   },
   "file_extension": ".py",
   "mimetype": "text/x-python",
   "name": "python",
   "nbconvert_exporter": "python",
   "pygments_lexer": "ipython3",
   "version": "3.10.12"
  }
 },
 "nbformat": 4,
 "nbformat_minor": 2
}
