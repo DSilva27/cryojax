{
 "cells": [
  {
   "cell_type": "markdown",
   "metadata": {},
   "source": [
    "### Let's demonstrate the image formation pipeline in ``cryojax``."
   ]
  },
  {
   "cell_type": "code",
   "execution_count": null,
   "metadata": {},
   "outputs": [],
   "source": [
    "# Jax imports\n",
    "import equinox as eqx\n",
    "import jax\n",
    "import jax.numpy as jnp\n",
    "import numpy as np\n",
    "from jax import config\n",
    "\n",
    "config.update(\"jax_enable_x64\", True)"
   ]
  },
  {
   "cell_type": "code",
   "execution_count": null,
   "metadata": {},
   "outputs": [],
   "source": [
    "# Plotting imports and function definitions\n",
    "from matplotlib import pyplot as plt\n",
    "from mpl_toolkits.axes_grid1 import make_axes_locatable\n",
    "\n",
    "\n",
    "def plot_image(image, fig, ax, cmap=\"gray\", label=None, **kwargs):\n",
    "    im = ax.imshow(image, cmap=cmap, origin=\"lower\", **kwargs)\n",
    "    divider = make_axes_locatable(ax)\n",
    "    cax = divider.append_axes(\"right\", size=\"5%\", pad=0.05)\n",
    "    fig.colorbar(im, cax=cax)\n",
    "    if label is not None:\n",
    "        ax.set(title=label)\n",
    "    return fig, ax"
   ]
  },
  {
   "cell_type": "code",
   "execution_count": null,
   "metadata": {},
   "outputs": [],
   "source": [
    "# Image simulator imports\n",
    "import cryojax.simulator as cs\n",
    "from cryojax.image import operators as op\n",
    "from cryojax.io import read_array_with_spacing_from_mrc"
   ]
  },
  {
   "cell_type": "code",
   "execution_count": null,
   "metadata": {},
   "outputs": [],
   "source": [
    "# Volume filename and metadata\n",
    "filename = \"../tests/data/3j9g_bfm1_ps4_4.mrc\""
   ]
  },
  {
   "cell_type": "markdown",
   "metadata": {},
   "source": [
    "First we must read in our template into a given volume representation of the ``Specimen``. We also must choose its ``Pose``."
   ]
  },
  {
   "cell_type": "code",
   "execution_count": null,
   "metadata": {},
   "outputs": [],
   "source": [
    "# Read template into either an ElectronCloud or ElectronGrid\n",
    "real_voxel_grid, voxel_size = read_array_with_spacing_from_mrc(filename)\n",
    "potential = cs.FourierVoxelGrid.from_real_voxel_grid(\n",
    "    real_voxel_grid, voxel_size, pad_scale=2\n",
    ")\n",
    "pose = cs.EulerPose(\n",
    "    offset_x=-2.0, offset_y=5.0, view_phi=-4.0, view_theta=20.0, view_psi=20.0\n",
    ")\n",
    "specimen = cs.Specimen(potential, pose)"
   ]
  },
  {
   "cell_type": "markdown",
   "metadata": {},
   "source": [
    "Next we have to choose a scattering (or in this case, projection) method. This will depend on the scattering potential representation."
   ]
  },
  {
   "cell_type": "code",
   "execution_count": null,
   "metadata": {},
   "outputs": [],
   "source": [
    "# Configure the image formation process\n",
    "shape = (64, 64)\n",
    "pixel_size = 4.4  # Angstroms\n",
    "config = cs.ImageConfig(shape, pixel_size, pad_scale=2)\n",
    "scattering = cs.FourierSliceExtract(\n",
    "    config, interpolation_order=1, interpolation_mode=\"fill\"\n",
    ")"
   ]
  },
  {
   "cell_type": "markdown",
   "metadata": {},
   "source": [
    "Now, it's time to configure the imaging instrument."
   ]
  },
  {
   "cell_type": "code",
   "execution_count": null,
   "metadata": {},
   "outputs": [],
   "source": [
    "# Initialize the instrument\n",
    "ctf = cs.CTF(defocus_u=10000.0, defocus_v=10000.0, amplitude_contrast=0.07)\n",
    "optics = cs.WeakPhaseOptics(ctf)\n",
    "detector = cs.PoissonDetector(electrons_per_angstrom_squared=op.Constant(30000.0))\n",
    "instrument_s = cs.Instrument()\n",
    "instrument_o = cs.Instrument(optics)\n",
    "instrument_d = cs.Instrument(optics, detector)"
   ]
  },
  {
   "cell_type": "markdown",
   "metadata": {},
   "source": [
    "Now, choose a model for the solvent. By default, this is just ``NullIce``. Here, we model the ice as gaussian colored noise with ``GaussianIce``."
   ]
  },
  {
   "cell_type": "code",
   "execution_count": null,
   "metadata": {},
   "outputs": [],
   "source": [
    "# Then, choose a model for the solvent\n",
    "solvent = cs.GaussianIce(variance=op.FourierExp2D(amplitude=1.0, scale=10.5))"
   ]
  },
  {
   "cell_type": "markdown",
   "metadata": {},
   "source": [
    "Finally, we can initialize our `ImagePipeline`s"
   ]
  },
  {
   "cell_type": "code",
   "execution_count": null,
   "metadata": {},
   "outputs": [],
   "source": [
    "# Image formation models\n",
    "scattering_pipeline = cs.ImagePipeline(\n",
    "    scattering=scattering, specimen=specimen, instrument=instrument_s, solvent=solvent\n",
    ")\n",
    "optics_pipeline = cs.ImagePipeline(\n",
    "    scattering=scattering, specimen=specimen, instrument=instrument_o, solvent=solvent\n",
    ")\n",
    "detector_pipeline = cs.ImagePipeline(\n",
    "    scattering=scattering, specimen=specimen, instrument=instrument_d, solvent=solvent\n",
    ")"
   ]
  },
  {
   "cell_type": "code",
   "execution_count": null,
   "metadata": {},
   "outputs": [],
   "source": [
    "# Plot models\n",
    "key = jax.random.PRNGKey(0)\n",
    "fig, axes = plt.subplots(ncols=3, figsize=(12, 6))\n",
    "ax1, ax2, ax3 = axes\n",
    "im1 = plot_image(scattering_pipeline.sample(key), fig, ax1, label=\"Exit plane\")\n",
    "im2 = plot_image(optics_pipeline.sample(key), fig, ax2, label=\"Detector plane\")\n",
    "im3 = plot_image(detector_pipeline.render(), fig, ax3, label=\"Detector readout\")\n",
    "plt.tight_layout()"
   ]
  }
 ],
 "metadata": {
  "kernelspec": {
   "display_name": "cryojax",
   "language": "python",
   "name": "cryojax"
  },
  "language_info": {
   "codemirror_mode": {
    "name": "ipython",
    "version": 3
   },
   "file_extension": ".py",
   "mimetype": "text/x-python",
   "name": "python",
   "nbconvert_exporter": "python",
   "pygments_lexer": "ipython3",
   "version": "3.11.2"
  }
 },
 "nbformat": 4,
 "nbformat_minor": 4
}
