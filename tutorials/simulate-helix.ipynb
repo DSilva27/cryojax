{
 "cells": [
  {
   "cell_type": "markdown",
   "metadata": {},
   "source": [
    "## Let's demonstrate the imaging pipeline for a helical specimen."
   ]
  },
  {
   "cell_type": "code",
   "execution_count": null,
   "metadata": {},
   "outputs": [],
   "source": [
    "# Jax imports\n",
    "import equinox as eqx\n",
    "import jax\n",
    "import jax.numpy as jnp\n",
    "import numpy as np\n",
    "from jax import config\n",
    "\n",
    "config.update(\"jax_enable_x64\", False)"
   ]
  },
  {
   "cell_type": "code",
   "execution_count": null,
   "metadata": {},
   "outputs": [],
   "source": [
    "# Plotting imports and function definitions\n",
    "from matplotlib import pyplot as plt\n",
    "from mpl_toolkits.axes_grid1 import make_axes_locatable"
   ]
  },
  {
   "cell_type": "code",
   "execution_count": null,
   "metadata": {},
   "outputs": [],
   "source": [
    "# Image simulator imports\n",
    "import cryojax.simulator as cs\n",
    "from cryojax.image import fftn, irfftn"
   ]
  },
  {
   "cell_type": "code",
   "execution_count": null,
   "metadata": {},
   "outputs": [],
   "source": [
    "def plot_image(image, fig, ax, cmap=\"gray\", **kwargs):\n",
    "    im = ax.imshow(image, cmap=cmap, origin=\"lower\", **kwargs)\n",
    "    divider = make_axes_locatable(ax)\n",
    "    cax = divider.append_axes(\"right\", size=\"5%\", pad=0.05)\n",
    "    fig.colorbar(im, cax=cax)\n",
    "    return fig, ax\n",
    "\n",
    "\n",
    "def plot_images(images, labels=None, **kwargs):\n",
    "    nimages = len(images)\n",
    "    fig, axes = plt.subplots(ncols=nimages, figsize=(4 * nimages, 6))\n",
    "    if nimages == 1:\n",
    "        axes = [axes]\n",
    "    for idx, ax in enumerate(axes):\n",
    "        image = images[idx]\n",
    "        plot_image(image, fig, ax, **kwargs)\n",
    "        if labels is not None:\n",
    "            ax.set(title=labels[idx])\n",
    "    return fig, axes\n",
    "\n",
    "\n",
    "def plot_net(theta, z, **kwargs):\n",
    "    fig, ax = plt.subplots(figsize=(4, 4))\n",
    "    ax.set(xlabel=r\"azimuthal angle, $\\theta$\", ylabel=r\"axial rise, $z$\")\n",
    "    ax.scatter(theta, z, **kwargs)\n",
    "    return fig, ax"
   ]
  },
  {
   "cell_type": "code",
   "execution_count": null,
   "metadata": {},
   "outputs": [],
   "source": [
    "# Volume filename and metadata\n",
    "subunit_filename = \"../tests/data/3j9g_subunit_bfm1_ps4_4.mrc\"\n",
    "assembly_filename = \"../tests/data/3j9g_bfm1_ps4_4.mrc\""
   ]
  },
  {
   "cell_type": "code",
   "execution_count": null,
   "metadata": {},
   "outputs": [],
   "source": [
    "# Helical parameters\n",
    "rise = 21.94532431  # Angstroms\n",
    "twist = 29.571584705551697  # Degrees\n",
    "n_start = 6  # Start number\n",
    "r_0 = jnp.asarray(\n",
    "    [-88.70895129, 9.75357114, 0.0], dtype=float\n",
    ")  # Displacement of initial subunit\n",
    "n_subunits_per_start = 2  # Number of subunits per sub-helix"
   ]
  },
  {
   "cell_type": "code",
   "execution_count": null,
   "metadata": {},
   "outputs": [],
   "source": [
    "# Initialize density distributions and center of mass pose\n",
    "subunit_density = cs.FourierVoxelGrid.from_file(subunit_filename, pad_scale=1.2)\n",
    "assembly_density = cs.FourierVoxelGrid.from_file(assembly_filename, pad_scale=1.2)\n",
    "pose = cs.EulerPose(\n",
    "    offset_x=0.0, offset_y=0.0, view_phi=0.0, view_theta=0.0, view_psi=0.0\n",
    ")\n",
    "\n",
    "# ... initialize the Specimen\n",
    "initial_subunit = cs.Specimen(density=subunit_density, pose=cs.EulerPose(*r_0))\n",
    "true_assembly = cs.Specimen(density=assembly_density, pose=pose)\n",
    "\n",
    "# ... initialize the Helix\n",
    "helix = cs.Helix(\n",
    "    subunit=initial_subunit,\n",
    "    pose=pose,\n",
    "    rise=rise,\n",
    "    twist=twist,\n",
    "    n_start=n_start,\n",
    "    n_subunits=n_subunits_per_start * n_start,\n",
    ")"
   ]
  },
  {
   "cell_type": "code",
   "execution_count": null,
   "metadata": {},
   "outputs": [],
   "source": [
    "# View the helical net\n",
    "lattice = helix.positions\n",
    "theta, z = jnp.arctan2(lattice[:, 1], lattice[:, 0]), lattice[:, 2]\n",
    "plot_net(theta, z)"
   ]
  },
  {
   "cell_type": "code",
   "execution_count": null,
   "metadata": {},
   "outputs": [],
   "source": [
    "# Configure the image settings and projection method\n",
    "shape = (80, 80)\n",
    "pixel_size = assembly_density.voxel_size\n",
    "manager = cs.ImageManager(shape, pixel_size, pad_scale=1.4)\n",
    "scattering = cs.FourierSliceExtract(manager)\n",
    "\n",
    "# ... instantiate the image formation models\n",
    "simulated = cs.AssemblyPipeline(helix, scattering)\n",
    "truth = cs.ImagePipeline(true_assembly, scattering)"
   ]
  },
  {
   "cell_type": "code",
   "execution_count": null,
   "metadata": {},
   "outputs": [],
   "source": [
    "# Plot models\n",
    "im1, im2 = simulated.render(), truth.render()\n",
    "fig, axes = plot_images(\n",
    "    [im1, im2, im1 - im2],\n",
    "    labels=[\"Cryojax Assembly\", \"Ground truth\", \"Difference map\"],\n",
    ")\n",
    "plt.tight_layout()"
   ]
  }
 ],
 "metadata": {
  "kernelspec": {
   "display_name": "cryojax",
   "language": "python",
   "name": "cryojax"
  },
  "language_info": {
   "codemirror_mode": {
    "name": "ipython",
    "version": 3
   },
   "file_extension": ".py",
   "mimetype": "text/x-python",
   "name": "python",
   "nbconvert_exporter": "python",
   "pygments_lexer": "ipython3",
   "version": "3.11.2"
  },
  "orig_nbformat": 4
 },
 "nbformat": 4,
 "nbformat_minor": 2
}
