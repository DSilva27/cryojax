{
 "cells": [
  {
   "cell_type": "markdown",
   "metadata": {},
   "source": [
    "### Let's demonstrate how to simulate a \"micrograph\" in cryojax. This will demonstrate how to use equinox to vmap over Poses"
   ]
  },
  {
   "cell_type": "code",
   "execution_count": null,
   "metadata": {},
   "outputs": [],
   "source": [
    "# Jax imports\n",
    "import equinox as eqx\n",
    "import jax\n",
    "import jax.numpy as jnp\n",
    "import numpy as np\n",
    "from jax import config\n",
    "from jaxlie import SO3\n",
    "from functools import partial\n",
    "\n",
    "import cryojax.simulator as cs\n",
    "\n",
    "config.update(\"jax_enable_x64\", False)"
   ]
  },
  {
   "cell_type": "code",
   "execution_count": null,
   "metadata": {},
   "outputs": [],
   "source": [
    "# Plotting imports and function definitions\n",
    "from matplotlib import pyplot as plt\n",
    "from mpl_toolkits.axes_grid1 import make_axes_locatable\n",
    "\n",
    "def plot_image(image, fig, ax, cmap=\"gray\", label=None, **kwargs):\n",
    "    im = ax.imshow(image, cmap=cmap, origin=\"lower\", **kwargs)\n",
    "    divider = make_axes_locatable(ax)\n",
    "    cax = divider.append_axes(\"right\", size=\"5%\", pad=0.05)\n",
    "    fig.colorbar(im, cax=cax)\n",
    "    if label is not None:\n",
    "        ax.set(title=label)\n",
    "    return fig, ax"
   ]
  },
  {
   "cell_type": "code",
   "execution_count": null,
   "metadata": {},
   "outputs": [],
   "source": [
    "# Configure the image parameters\n",
    "image_dim = 600\n",
    "shape = (image_dim, image_dim)\n",
    "pixel_size = 4.4  # Angstroms\n",
    "image_size = image_dim * pixel_size"
   ]
  },
  {
   "cell_type": "code",
   "execution_count": null,
   "metadata": {},
   "outputs": [],
   "source": [
    "# Sample a group of uniform rotations and translations\n",
    "keys = jax.random.split(jax.random.PRNGKey(0), 100)\n",
    "# ... rotations\n",
    "rotations = jax.vmap(lambda key: SO3.sample_uniform(key))(keys)\n",
    "# ... translations\n",
    "translations = jax.vmap(lambda key: jax.random.uniform(key, (3,), minval=-image_size/2, maxval=image_size/2))(keys)"
   ]
  },
  {
   "cell_type": "code",
   "execution_count": null,
   "metadata": {},
   "outputs": [],
   "source": [
    "# Now, instantiate the poses\n",
    "poses = cs.QuaternionPose.from_rotation_and_translation(rotations, translations)\n",
    "\n",
    "# ... load the ElectronDensity and ScatteringModel\n",
    "filename = \"../tests/data/3j9g_bfm1_ps4_4.mrc\"\n",
    "manager = cs.ImageManager(shape, pad_scale=1.2)\n",
    "density = cs.FourierVoxelGrid.from_file(filename, pad_scale=1.3)\n",
    "scattering = cs.FourierSliceExtract(manager, pixel_size)\n",
    "\n",
    "# ... build the Ensemble\n",
    "ensemble = cs.Ensemble(density, poses)\n",
    "\n",
    "# ... and finally the instrument\n",
    "optics = cs.CTFOptics()\n",
    "instrument = cs.Instrument(optics=optics)"
   ]
  },
  {
   "cell_type": "markdown",
   "metadata": {},
   "source": [
    "### Option 1: Use equinox in order to compute the image superposition"
   ]
  },
  {
   "cell_type": "code",
   "execution_count": null,
   "metadata": {},
   "outputs": [],
   "source": [
    "@partial(jax.vmap, in_axes=[0, None])\n",
    "def compute_image_stack(vmap, novmap):\n",
    "    \"\"\"Compute image stack.\"\"\"\n",
    "    pipeline = eqx.combine(vmap, novmap)\n",
    "    return pipeline.render()\n",
    "\n",
    "@jax.jit\n",
    "def compute_stack_and_sum(vmap, novmap):\n",
    "    \"\"\"Compute the stack and sum.\"\"\"\n",
    "    return jnp.sum(compute_image_stack(vmap, novmap), axis=0)\n",
    "\n",
    "@jax.jit\n",
    "def compute_micrograph(ensemble, scattering, instrument):\n",
    "    \"\"\"Build the model and compute the superposition.\"\"\"\n",
    "    pipeline = cs.ImagePipeline(ensemble, scattering, instrument)\n",
    "    is_vmap = lambda x: isinstance(x, cs.Pose)\n",
    "    to_vmap = jax.tree_util.tree_map(is_vmap, pipeline, is_leaf=is_vmap)\n",
    "    vmap, novmap = eqx.partition(pipeline, to_vmap)\n",
    "    return compute_stack_and_sum(vmap, novmap)"
   ]
  },
  {
   "cell_type": "code",
   "execution_count": null,
   "metadata": {},
   "outputs": [],
   "source": [
    "# Compute the image and plot\n",
    "fig, ax = plt.subplots()\n",
    "micrograph = compute_micrograph(ensemble, scattering, instrument)\n",
    "plot_image(micrograph, fig, ax, label=\"Sum of random poses\")"
   ]
  },
  {
   "cell_type": "markdown",
   "metadata": {},
   "source": [
    "### Option 2: Use the built-in cryojax SuperpositionPipeline"
   ]
  },
  {
   "cell_type": "code",
   "execution_count": null,
   "metadata": {},
   "outputs": [],
   "source": [
    "# Compute the image and plot\n",
    "fig, ax = plt.subplots()\n",
    "superposition_pipeline = cs.SuperpositionPipeline(ensemble, scattering, instrument)\n",
    "micrograph = superposition_pipeline.render()\n",
    "plot_image(micrograph, fig, ax, label=\"Sum of random poses with SuperpositionPipeline\")"
   ]
  }
 ],
 "metadata": {
  "kernelspec": {
   "display_name": "cryojax",
   "language": "python",
   "name": "cryojax"
  },
  "language_info": {
   "codemirror_mode": {
    "name": "ipython",
    "version": 3
   },
   "file_extension": ".py",
   "mimetype": "text/x-python",
   "name": "python",
   "nbconvert_exporter": "python",
   "pygments_lexer": "ipython3",
   "version": "3.11.2"
  }
 },
 "nbformat": 4,
 "nbformat_minor": 2
}
