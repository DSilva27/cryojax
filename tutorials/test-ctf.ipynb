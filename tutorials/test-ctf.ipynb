{
 "cells": [
  {
   "cell_type": "code",
   "execution_count": null,
   "metadata": {},
   "outputs": [],
   "source": [
    "# Jax imports\n",
    "import jax.numpy as jnp\n",
    "import numpy as np\n",
    "from jax import config\n",
    "\n",
    "config.update(\"jax_enable_x64\", False)"
   ]
  },
  {
   "cell_type": "code",
   "execution_count": null,
   "metadata": {},
   "outputs": [],
   "source": [
    "# Plotting imports\n",
    "from matplotlib import pyplot as plt\n",
    "from mpl_toolkits.axes_grid1 import make_axes_locatable"
   ]
  },
  {
   "cell_type": "code",
   "execution_count": null,
   "metadata": {},
   "outputs": [],
   "source": [
    "def plot_image(image, fig, ax, cmap=\"gray\", **kwargs):\n",
    "    im = ax.imshow(image, cmap=cmap, origin=\"lower\", **kwargs)\n",
    "    divider = make_axes_locatable(ax)\n",
    "    cax = divider.append_axes(\"right\", size=\"5%\", pad=0.05)\n",
    "    fig.colorbar(im, cax=cax)\n",
    "    return fig, ax\n",
    "\n",
    "def plot_images(images, cmap=\"gray\", labels=None, **kwargs):\n",
    "    ncols = len(images)\n",
    "    fig, axes = plt.subplots(ncols=ncols, figsize=(ncols*5, 5))\n",
    "    for idx in range(ncols):\n",
    "        ax = axes[idx]\n",
    "        image = images[idx]\n",
    "        im = ax.imshow(image, cmap=cmap, origin=\"lower\", **kwargs)\n",
    "        label = None if labels is None else labels[idx]\n",
    "        ax.set(title=label)\n",
    "        divider = make_axes_locatable(ax)\n",
    "        cax = divider.append_axes(\"right\", size=\"5%\", pad=0.05)\n",
    "        fig.colorbar(im, cax=cax)\n",
    "    return fig, axes\n",
    "\n",
    "def plot_profiles(bins, profiles, labels=None, **kwargs):\n",
    "    nprofiles = len(profiles)\n",
    "    fig, ax = plt.subplots()\n",
    "    ax.set(**kwargs)\n",
    "    for idx in range(nprofiles):\n",
    "        profile = profiles[idx]\n",
    "        label = None if labels is None else labels[idx]\n",
    "        ax.plot(bins, profile, label=label)\n",
    "    ax.legend(fontsize=12)\n",
    "    return fig, ax"
   ]
  },
  {
   "cell_type": "code",
   "execution_count": null,
   "metadata": {},
   "outputs": [],
   "source": [
    "# cisTEM imports\n",
    "from pycistem.core import CTF"
   ]
  },
  {
   "cell_type": "code",
   "execution_count": null,
   "metadata": {},
   "outputs": [],
   "source": [
    "# cryojax imports\n",
    "from cryojax.simulator import CTFOptics\n",
    "from cryojax.utils import make_frequencies, cartesian_to_polar, powerspectrum"
   ]
  },
  {
   "cell_type": "code",
   "execution_count": null,
   "metadata": {},
   "outputs": [],
   "source": [
    "# Parameters for the CTF\n",
    "defocus1, defocus2, asti_angle, kV, cs, ac = 24000, 12000, 30.0, 300.0, 2.7, 0.07"
   ]
  },
  {
   "cell_type": "code",
   "execution_count": null,
   "metadata": {},
   "outputs": [],
   "source": [
    "# Frequency coordinates\n",
    "shape = (512, 512)\n",
    "pixel_size = 0.9\n",
    "freqs = make_frequencies(shape, pixel_size=pixel_size)\n",
    "k_sqr, theta = cartesian_to_polar(freqs, square=True)"
   ]
  },
  {
   "cell_type": "code",
   "execution_count": null,
   "metadata": {},
   "outputs": [],
   "source": [
    "# cryojax CTF and power spectrum\n",
    "optics = CTFOptics(defocus_u=defocus1, defocus_v=defocus2,\n",
    "                   defocus_angle=asti_angle, voltage=kV,\n",
    "                   spherical_aberration=cs, amplitude_contrast=ac, envelope=None)\n",
    "ctf = np.array(optics(freqs))"
   ]
  },
  {
   "cell_type": "code",
   "execution_count": null,
   "metadata": {},
   "outputs": [],
   "source": [
    "# cisTEM CTF\n",
    "cisTEM_optics = CTF(kV=kV, cs=cs, ac=ac, defocus1=defocus1, defocus2=defocus2, astig_angle=asti_angle, pixel_size=pixel_size)\n",
    "cisTEM_ctf = np.vectorize(lambda k_sqr, theta: cisTEM_optics.Evaluate(k_sqr, theta))(k_sqr.ravel()*pixel_size**2, theta.ravel()).reshape(shape)"
   ]
  },
  {
   "cell_type": "code",
   "execution_count": null,
   "metadata": {},
   "outputs": [],
   "source": [
    "# Plot CTFs\n",
    "ctfs = [ctf, cisTEM_ctf]\n",
    "labels = [\"cryojax\", \"cisTEM\"]\n",
    "fig, axes = plot_images(ctfs, labels=labels)\n",
    "plt.tight_layout()"
   ]
  },
  {
   "cell_type": "code",
   "execution_count": null,
   "metadata": {},
   "outputs": [],
   "source": [
    "# Compute cryojax and cisTEM power spectrum\n",
    "spectrum1D, k_bins = powerspectrum(ctf, freqs, pixel_size=pixel_size)\n",
    "cisTEM_spectrum1D, k_bins = powerspectrum(cisTEM_ctf, freqs, pixel_size=pixel_size)"
   ]
  },
  {
   "cell_type": "code",
   "execution_count": null,
   "metadata": {},
   "outputs": [],
   "source": [
    "# Plot profiles\n",
    "profiles = [spectrum1D, cisTEM_spectrum1D]\n",
    "fig, axes = plot_profiles(k_bins, profiles, labels=labels)"
   ]
  },
  {
   "cell_type": "code",
   "execution_count": null,
   "metadata": {},
   "outputs": [],
   "source": [
    "# Assert CTFs are the same\n",
    "assert np.allclose(ctf, cisTEM_ctf, atol=5e-2)\n",
    "assert np.allclose(spectrum1D, cisTEM_spectrum1D, atol=5e-3)"
   ]
  }
 ],
 "metadata": {
  "kernelspec": {
   "display_name": "jax-2dtm-cpu",
   "language": "python",
   "name": "python3"
  },
  "language_info": {
   "codemirror_mode": {
    "name": "ipython",
    "version": 3
   },
   "file_extension": ".py",
   "mimetype": "text/x-python",
   "name": "python",
   "nbconvert_exporter": "python",
   "pygments_lexer": "ipython3",
   "version": "3.10.12"
  },
  "orig_nbformat": 4
 },
 "nbformat": 4,
 "nbformat_minor": 2
}
