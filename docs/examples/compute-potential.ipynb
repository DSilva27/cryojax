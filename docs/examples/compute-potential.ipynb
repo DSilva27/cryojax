{
 "cells": [
  {
   "cell_type": "code",
   "execution_count": null,
   "metadata": {},
   "outputs": [],
   "source": [
    "# Plotting imports and function definitions\n",
    "from matplotlib import pyplot as plt\n",
    "from mpl_toolkits.axes_grid1 import make_axes_locatable\n",
    "\n",
    "\n",
    "def plot_image(image, fig, ax, cmap=\"gray\", label=None, **kwargs):\n",
    "    im = ax.imshow(image, cmap=cmap, origin=\"lower\", **kwargs)\n",
    "    divider = make_axes_locatable(ax)\n",
    "    cax = divider.append_axes(\"right\", size=\"5%\", pad=0.05)\n",
    "    fig.colorbar(im, cax=cax)\n",
    "    if label is not None:\n",
    "        ax.set(title=label)\n",
    "    return fig, ax"
   ]
  },
  {
   "cell_type": "code",
   "execution_count": null,
   "metadata": {},
   "outputs": [],
   "source": [
    "import cryojax.simulator as cxs"
   ]
  },
  {
   "cell_type": "code",
   "execution_count": null,
   "metadata": {},
   "outputs": [],
   "source": [
    "from cryojax.constants import (\n",
    "    get_tabulated_scattering_factor_parameters,\n",
    "    peng_element_scattering_factor_parameter_table,\n",
    ")\n",
    "from cryojax.data import read_atoms_with_b_factors_from_pdb\n",
    "\n",
    "\n",
    "atom_positions, atom_identities, atom_b_factors = read_atoms_with_b_factors_from_pdb(\n",
    "    \"./data/5w0s.pdb\"\n",
    ")\n",
    "scattering_factor_a, scattering_factor_b = get_tabulated_scattering_factor_parameters(\n",
    "    atom_identities - 1, peng_element_scattering_factor_parameter_table\n",
    ")\n",
    "atom_potential = cxs.PengTabulatedAtomicPotential(\n",
    "    atom_positions,\n",
    "    scattering_factor_a,\n",
    "    scattering_factor_b,\n",
    "    atom_b_factors=atom_b_factors,\n",
    ")"
   ]
  },
  {
   "cell_type": "code",
   "execution_count": null,
   "metadata": {},
   "outputs": [],
   "source": [
    "from cryojax.coordinates import make_coordinate_grid\n",
    "from cryojax.image import downsample_with_fourier_cropping\n",
    "\n",
    "\n",
    "shape = (40, 40, 40)\n",
    "voxel_size = 5.0\n",
    "coordinate_grid_in_angstroms = make_coordinate_grid(shape, voxel_size)\n",
    "real_voxel_grid = atom_potential.as_real_voxel_grid(\n",
    "    coordinate_grid_in_angstroms, batch_size=100, progress_bar=True\n",
    ")"
   ]
  },
  {
   "cell_type": "code",
   "execution_count": null,
   "metadata": {},
   "outputs": [],
   "source": [
    "fig, axes = plt.subplots(ncols=3, figsize=(8, 3))\n",
    "labels = [\"z projection\", \"y projection\", \"x projection\"]\n",
    "[\n",
    "    plot_image(\n",
    "        downsample_with_fourier_cropping(real_voxel_grid, 1.0).sum(axis=idx),\n",
    "        fig,\n",
    "        ax,\n",
    "        label=labels[idx],\n",
    "    )\n",
    "    for idx, ax in enumerate(axes)\n",
    "]\n",
    "plt.tight_layout()"
   ]
  }
 ],
 "metadata": {
  "kernelspec": {
   "display_name": "cryojax",
   "language": "python",
   "name": "python3"
  },
  "language_info": {
   "codemirror_mode": {
    "name": "ipython",
    "version": 3
   },
   "file_extension": ".py",
   "mimetype": "text/x-python",
   "name": "python",
   "nbconvert_exporter": "python",
   "pygments_lexer": "ipython3",
   "version": "3.10.13"
  }
 },
 "nbformat": 4,
 "nbformat_minor": 2
}
